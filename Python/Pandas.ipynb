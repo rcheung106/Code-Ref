{
 "cells": [
  {
   "cell_type": "markdown",
   "id": "a967dd18-ce4a-46cb-9e22-9341b01f351a",
   "metadata": {},
   "source": [
    "##### **Import the necessary libraries and datasets of S&P 500 and S&P Financials**"
   ]
  },
  {
   "cell_type": "code",
   "execution_count": 2,
   "id": "663c0cba-5c60-4d18-8784-070bc98f7582",
   "metadata": {},
   "outputs": [],
   "source": [
    "import pandas as pd\n",
    "import numpy as np"
   ]
  },
  {
   "cell_type": "code",
   "execution_count": 4,
   "id": "90915e1f-0185-45fb-9b6b-4df8acd112b7",
   "metadata": {},
   "outputs": [],
   "source": [
    "df_constituents = pd.read_csv('https://datahub.io/core/s-and-p-500-companies-financials/_r/-/data/constituents.csv')\n",
    "df_constituents_financials = pd.read_csv('https://datahub.io/core/s-and-p-500-companies-financials/_r/-/data/constituents-financials.csv')"
   ]
  },
  {
   "cell_type": "code",
   "execution_count": 6,
   "id": "94220764-9ed0-424f-ac64-3980afc5df83",
   "metadata": {},
   "outputs": [
    {
     "name": "stdout",
     "output_type": "stream",
     "text": [
      "<class 'pandas.core.frame.DataFrame'>\n",
      "RangeIndex: 503 entries, 0 to 502\n",
      "Data columns (total 14 columns):\n",
      " #   Column          Non-Null Count  Dtype  \n",
      "---  ------          --------------  -----  \n",
      " 0   Symbol          503 non-null    object \n",
      " 1   Name            503 non-null    object \n",
      " 2   Sector          503 non-null    object \n",
      " 3   Price           501 non-null    float64\n",
      " 4   Price/Earnings  474 non-null    float64\n",
      " 5   Dividend Yield  406 non-null    float64\n",
      " 6   Earnings/Share  500 non-null    float64\n",
      " 7   52 Week Low     501 non-null    float64\n",
      " 8   52 Week High    501 non-null    float64\n",
      " 9   Market Cap      501 non-null    float64\n",
      " 10  EBITDA          472 non-null    float64\n",
      " 11  Price/Sales     501 non-null    float64\n",
      " 12  Price/Book      470 non-null    float64\n",
      " 13  SEC Filings     503 non-null    object \n",
      "dtypes: float64(10), object(4)\n",
      "memory usage: 55.1+ KB\n"
     ]
    },
    {
     "data": {
      "text/html": [
       "<div>\n",
       "<style scoped>\n",
       "    .dataframe tbody tr th:only-of-type {\n",
       "        vertical-align: middle;\n",
       "    }\n",
       "\n",
       "    .dataframe tbody tr th {\n",
       "        vertical-align: top;\n",
       "    }\n",
       "\n",
       "    .dataframe thead th {\n",
       "        text-align: right;\n",
       "    }\n",
       "</style>\n",
       "<table border=\"1\" class=\"dataframe\">\n",
       "  <thead>\n",
       "    <tr style=\"text-align: right;\">\n",
       "      <th></th>\n",
       "      <th>Symbol</th>\n",
       "      <th>Name</th>\n",
       "      <th>Sector</th>\n",
       "      <th>Price</th>\n",
       "      <th>Price/Earnings</th>\n",
       "      <th>Dividend Yield</th>\n",
       "      <th>Earnings/Share</th>\n",
       "      <th>52 Week Low</th>\n",
       "      <th>52 Week High</th>\n",
       "      <th>Market Cap</th>\n",
       "      <th>EBITDA</th>\n",
       "      <th>Price/Sales</th>\n",
       "      <th>Price/Book</th>\n",
       "      <th>SEC Filings</th>\n",
       "    </tr>\n",
       "  </thead>\n",
       "  <tbody>\n",
       "    <tr>\n",
       "      <th>0</th>\n",
       "      <td>MMM</td>\n",
       "      <td>3M</td>\n",
       "      <td>Industrial Conglomerates</td>\n",
       "      <td>129.09</td>\n",
       "      <td>13.432882</td>\n",
       "      <td>0.0217</td>\n",
       "      <td>9.61</td>\n",
       "      <td>75.652176</td>\n",
       "      <td>141.34</td>\n",
       "      <td>7.029712e+10</td>\n",
       "      <td>8.117000e+09</td>\n",
       "      <td>2.153843</td>\n",
       "      <td>15.144298</td>\n",
       "      <td>http://www.sec.gov/cgi-bin/browse-edgar?action...</td>\n",
       "    </tr>\n",
       "    <tr>\n",
       "      <th>1</th>\n",
       "      <td>AOS</td>\n",
       "      <td>A. O. Smith</td>\n",
       "      <td>Building Products</td>\n",
       "      <td>68.21</td>\n",
       "      <td>17.997362</td>\n",
       "      <td>0.0200</td>\n",
       "      <td>3.79</td>\n",
       "      <td>67.390000</td>\n",
       "      <td>92.45</td>\n",
       "      <td>9.890109e+09</td>\n",
       "      <td>8.091000e+08</td>\n",
       "      <td>2.539963</td>\n",
       "      <td>5.159997</td>\n",
       "      <td>http://www.sec.gov/cgi-bin/browse-edgar?action...</td>\n",
       "    </tr>\n",
       "    <tr>\n",
       "      <th>2</th>\n",
       "      <td>ABT</td>\n",
       "      <td>Abbott Laboratories</td>\n",
       "      <td>Health Care Equipment</td>\n",
       "      <td>113.11</td>\n",
       "      <td>34.379940</td>\n",
       "      <td>0.0209</td>\n",
       "      <td>3.29</td>\n",
       "      <td>99.710000</td>\n",
       "      <td>121.64</td>\n",
       "      <td>1.961848e+11</td>\n",
       "      <td>1.082500e+10</td>\n",
       "      <td>4.759802</td>\n",
       "      <td>4.929829</td>\n",
       "      <td>http://www.sec.gov/cgi-bin/browse-edgar?action...</td>\n",
       "    </tr>\n",
       "    <tr>\n",
       "      <th>3</th>\n",
       "      <td>ABBV</td>\n",
       "      <td>AbbVie</td>\n",
       "      <td>Biotechnology</td>\n",
       "      <td>177.70</td>\n",
       "      <td>61.916378</td>\n",
       "      <td>0.0372</td>\n",
       "      <td>2.87</td>\n",
       "      <td>153.580000</td>\n",
       "      <td>207.32</td>\n",
       "      <td>3.140208e+11</td>\n",
       "      <td>2.563000e+10</td>\n",
       "      <td>5.654670</td>\n",
       "      <td>52.065628</td>\n",
       "      <td>http://www.sec.gov/cgi-bin/browse-edgar?action...</td>\n",
       "    </tr>\n",
       "    <tr>\n",
       "      <th>4</th>\n",
       "      <td>ACN</td>\n",
       "      <td>Accenture</td>\n",
       "      <td>IT Consulting &amp; Other Services</td>\n",
       "      <td>351.79</td>\n",
       "      <td>29.537365</td>\n",
       "      <td>0.0170</td>\n",
       "      <td>11.91</td>\n",
       "      <td>278.690000</td>\n",
       "      <td>387.51</td>\n",
       "      <td>2.200376e+11</td>\n",
       "      <td>1.106591e+10</td>\n",
       "      <td>3.390595</td>\n",
       "      <td>7.775740</td>\n",
       "      <td>http://www.sec.gov/cgi-bin/browse-edgar?action...</td>\n",
       "    </tr>\n",
       "  </tbody>\n",
       "</table>\n",
       "</div>"
      ],
      "text/plain": [
       "  Symbol                 Name                          Sector   Price  \\\n",
       "0    MMM                   3M        Industrial Conglomerates  129.09   \n",
       "1    AOS          A. O. Smith               Building Products   68.21   \n",
       "2    ABT  Abbott Laboratories           Health Care Equipment  113.11   \n",
       "3   ABBV               AbbVie                   Biotechnology  177.70   \n",
       "4    ACN            Accenture  IT Consulting & Other Services  351.79   \n",
       "\n",
       "   Price/Earnings  Dividend Yield  Earnings/Share  52 Week Low  52 Week High  \\\n",
       "0       13.432882          0.0217            9.61    75.652176        141.34   \n",
       "1       17.997362          0.0200            3.79    67.390000         92.45   \n",
       "2       34.379940          0.0209            3.29    99.710000        121.64   \n",
       "3       61.916378          0.0372            2.87   153.580000        207.32   \n",
       "4       29.537365          0.0170           11.91   278.690000        387.51   \n",
       "\n",
       "     Market Cap        EBITDA  Price/Sales  Price/Book  \\\n",
       "0  7.029712e+10  8.117000e+09     2.153843   15.144298   \n",
       "1  9.890109e+09  8.091000e+08     2.539963    5.159997   \n",
       "2  1.961848e+11  1.082500e+10     4.759802    4.929829   \n",
       "3  3.140208e+11  2.563000e+10     5.654670   52.065628   \n",
       "4  2.200376e+11  1.106591e+10     3.390595    7.775740   \n",
       "\n",
       "                                         SEC Filings  \n",
       "0  http://www.sec.gov/cgi-bin/browse-edgar?action...  \n",
       "1  http://www.sec.gov/cgi-bin/browse-edgar?action...  \n",
       "2  http://www.sec.gov/cgi-bin/browse-edgar?action...  \n",
       "3  http://www.sec.gov/cgi-bin/browse-edgar?action...  \n",
       "4  http://www.sec.gov/cgi-bin/browse-edgar?action...  "
      ]
     },
     "execution_count": 6,
     "metadata": {},
     "output_type": "execute_result"
    }
   ],
   "source": [
    "df_constituents_financials.info()\n",
    "df_constituents_financials.head(n=5)"
   ]
  },
  {
   "cell_type": "markdown",
   "id": "6e3fa0da-b4dc-4b51-bae6-bd1fa95813c4",
   "metadata": {},
   "source": [
    "##### **Drop a column and a row from dataframe and set Symbol to index**"
   ]
  },
  {
   "cell_type": "code",
   "execution_count": null,
   "id": "bc2d15c0-4c6f-42f3-87b3-325d335a5e82",
   "metadata": {},
   "outputs": [],
   "source": [
    "df_constituents_financials = df_constituents_financials.drop('SEC Filings',axis=1)\n",
    "df_constituents_financials = df_constituents_financials.drop('GOOG',axis=0)\n",
    "df_constituents_financials = df_constituents_financials.set_index(keys='Symbol')"
   ]
  },
  {
   "cell_type": "markdown",
   "id": "bf0ee846-623d-492a-9176-1cb0da5e62af",
   "metadata": {},
   "source": [
    "##### **Find 10 largest company as a list and return all information**"
   ]
  },
  {
   "cell_type": "code",
   "execution_count": 11,
   "id": "b72a39ac-ccb1-46f6-a42e-08103a4c290d",
   "metadata": {},
   "outputs": [
    {
     "data": {
      "text/html": [
       "<div>\n",
       "<style scoped>\n",
       "    .dataframe tbody tr th:only-of-type {\n",
       "        vertical-align: middle;\n",
       "    }\n",
       "\n",
       "    .dataframe tbody tr th {\n",
       "        vertical-align: top;\n",
       "    }\n",
       "\n",
       "    .dataframe thead th {\n",
       "        text-align: right;\n",
       "    }\n",
       "</style>\n",
       "<table border=\"1\" class=\"dataframe\">\n",
       "  <thead>\n",
       "    <tr style=\"text-align: right;\">\n",
       "      <th></th>\n",
       "      <th>Symbol</th>\n",
       "      <th>Name</th>\n",
       "      <th>Sector</th>\n",
       "      <th>Price</th>\n",
       "      <th>Price/Earnings</th>\n",
       "      <th>Dividend Yield</th>\n",
       "      <th>Earnings/Share</th>\n",
       "      <th>52 Week Low</th>\n",
       "      <th>52 Week High</th>\n",
       "      <th>Market Cap</th>\n",
       "      <th>EBITDA</th>\n",
       "      <th>Price/Sales</th>\n",
       "      <th>Price/Book</th>\n",
       "    </tr>\n",
       "  </thead>\n",
       "  <tbody>\n",
       "    <tr>\n",
       "      <th>39</th>\n",
       "      <td>AAPL</td>\n",
       "      <td>Apple Inc.</td>\n",
       "      <td>Technology Hardware, Storage &amp; Peripherals</td>\n",
       "      <td>250.42</td>\n",
       "      <td>41.187500</td>\n",
       "      <td>0.0040</td>\n",
       "      <td>6.08</td>\n",
       "      <td>164.08000</td>\n",
       "      <td>260.10</td>\n",
       "      <td>3.785299e+12</td>\n",
       "      <td>1.346610e+11</td>\n",
       "      <td>9.680204</td>\n",
       "      <td>66.477300</td>\n",
       "    </tr>\n",
       "    <tr>\n",
       "      <th>350</th>\n",
       "      <td>NVDA</td>\n",
       "      <td>Nvidia</td>\n",
       "      <td>Semiconductors</td>\n",
       "      <td>134.29</td>\n",
       "      <td>53.079050</td>\n",
       "      <td>0.0003</td>\n",
       "      <td>2.53</td>\n",
       "      <td>47.32000</td>\n",
       "      <td>152.89</td>\n",
       "      <td>3.288762e+12</td>\n",
       "      <td>6.118400e+10</td>\n",
       "      <td>34.148730</td>\n",
       "      <td>77.001144</td>\n",
       "    </tr>\n",
       "    <tr>\n",
       "      <th>320</th>\n",
       "      <td>MSFT</td>\n",
       "      <td>Microsoft</td>\n",
       "      <td>Systems Software</td>\n",
       "      <td>421.50</td>\n",
       "      <td>34.805946</td>\n",
       "      <td>0.0078</td>\n",
       "      <td>12.11</td>\n",
       "      <td>366.50000</td>\n",
       "      <td>468.35</td>\n",
       "      <td>3.133802e+12</td>\n",
       "      <td>1.365520e+11</td>\n",
       "      <td>12.328582</td>\n",
       "      <td>10.893443</td>\n",
       "    </tr>\n",
       "    <tr>\n",
       "      <th>19</th>\n",
       "      <td>GOOGL</td>\n",
       "      <td>Alphabet Inc. (Class A)</td>\n",
       "      <td>Interactive Media &amp; Services</td>\n",
       "      <td>189.30</td>\n",
       "      <td>25.139442</td>\n",
       "      <td>0.0042</td>\n",
       "      <td>7.53</td>\n",
       "      <td>130.67000</td>\n",
       "      <td>201.42</td>\n",
       "      <td>2.325172e+12</td>\n",
       "      <td>1.234700e+11</td>\n",
       "      <td>6.841578</td>\n",
       "      <td>7.390778</td>\n",
       "    </tr>\n",
       "    <tr>\n",
       "      <th>20</th>\n",
       "      <td>GOOG</td>\n",
       "      <td>Alphabet Inc. (Class C)</td>\n",
       "      <td>Interactive Media &amp; Services</td>\n",
       "      <td>190.44</td>\n",
       "      <td>25.290836</td>\n",
       "      <td>0.0042</td>\n",
       "      <td>7.53</td>\n",
       "      <td>131.55000</td>\n",
       "      <td>202.88</td>\n",
       "      <td>2.321559e+12</td>\n",
       "      <td>1.234700e+11</td>\n",
       "      <td>6.830946</td>\n",
       "      <td>7.435287</td>\n",
       "    </tr>\n",
       "    <tr>\n",
       "      <th>22</th>\n",
       "      <td>AMZN</td>\n",
       "      <td>Amazon</td>\n",
       "      <td>Broadline Retail</td>\n",
       "      <td>219.39</td>\n",
       "      <td>46.978584</td>\n",
       "      <td>NaN</td>\n",
       "      <td>4.67</td>\n",
       "      <td>144.05000</td>\n",
       "      <td>233.00</td>\n",
       "      <td>2.306886e+12</td>\n",
       "      <td>1.115830e+11</td>\n",
       "      <td>3.720016</td>\n",
       "      <td>8.898397</td>\n",
       "    </tr>\n",
       "    <tr>\n",
       "      <th>314</th>\n",
       "      <td>META</td>\n",
       "      <td>Meta Platforms</td>\n",
       "      <td>Interactive Media &amp; Services</td>\n",
       "      <td>585.51</td>\n",
       "      <td>27.657536</td>\n",
       "      <td>0.0034</td>\n",
       "      <td>21.17</td>\n",
       "      <td>340.01000</td>\n",
       "      <td>638.40</td>\n",
       "      <td>1.478114e+12</td>\n",
       "      <td>7.920900e+10</td>\n",
       "      <td>9.461324</td>\n",
       "      <td>8.982144</td>\n",
       "    </tr>\n",
       "    <tr>\n",
       "      <th>444</th>\n",
       "      <td>TSLA</td>\n",
       "      <td>Tesla, Inc.</td>\n",
       "      <td>Automobile Manufacturers</td>\n",
       "      <td>403.84</td>\n",
       "      <td>111.250690</td>\n",
       "      <td>NaN</td>\n",
       "      <td>3.63</td>\n",
       "      <td>138.80000</td>\n",
       "      <td>488.54</td>\n",
       "      <td>1.296351e+12</td>\n",
       "      <td>1.324400e+10</td>\n",
       "      <td>13.343804</td>\n",
       "      <td>18.519674</td>\n",
       "    </tr>\n",
       "    <tr>\n",
       "      <th>72</th>\n",
       "      <td>AVGO</td>\n",
       "      <td>Broadcom</td>\n",
       "      <td>Semiconductors</td>\n",
       "      <td>231.84</td>\n",
       "      <td>178.338470</td>\n",
       "      <td>0.0117</td>\n",
       "      <td>1.30</td>\n",
       "      <td>104.15100</td>\n",
       "      <td>251.88</td>\n",
       "      <td>1.086717e+12</td>\n",
       "      <td>2.295800e+10</td>\n",
       "      <td>23.213020</td>\n",
       "      <td>3.914827</td>\n",
       "    </tr>\n",
       "    <tr>\n",
       "      <th>483</th>\n",
       "      <td>WMT</td>\n",
       "      <td>Walmart</td>\n",
       "      <td>Consumer Staples Merchandise Retail</td>\n",
       "      <td>90.35</td>\n",
       "      <td>37.334710</td>\n",
       "      <td>0.0099</td>\n",
       "      <td>2.42</td>\n",
       "      <td>51.86667</td>\n",
       "      <td>96.18</td>\n",
       "      <td>7.258168e+11</td>\n",
       "      <td>4.077900e+10</td>\n",
       "      <td>1.091396</td>\n",
       "      <td>8.677487</td>\n",
       "    </tr>\n",
       "  </tbody>\n",
       "</table>\n",
       "</div>"
      ],
      "text/plain": [
       "    Symbol                     Name  \\\n",
       "39    AAPL               Apple Inc.   \n",
       "350   NVDA                   Nvidia   \n",
       "320   MSFT                Microsoft   \n",
       "19   GOOGL  Alphabet Inc. (Class A)   \n",
       "20    GOOG  Alphabet Inc. (Class C)   \n",
       "22    AMZN                   Amazon   \n",
       "314   META           Meta Platforms   \n",
       "444   TSLA              Tesla, Inc.   \n",
       "72    AVGO                 Broadcom   \n",
       "483    WMT                  Walmart   \n",
       "\n",
       "                                         Sector   Price  Price/Earnings  \\\n",
       "39   Technology Hardware, Storage & Peripherals  250.42       41.187500   \n",
       "350                              Semiconductors  134.29       53.079050   \n",
       "320                            Systems Software  421.50       34.805946   \n",
       "19                 Interactive Media & Services  189.30       25.139442   \n",
       "20                 Interactive Media & Services  190.44       25.290836   \n",
       "22                             Broadline Retail  219.39       46.978584   \n",
       "314                Interactive Media & Services  585.51       27.657536   \n",
       "444                    Automobile Manufacturers  403.84      111.250690   \n",
       "72                               Semiconductors  231.84      178.338470   \n",
       "483         Consumer Staples Merchandise Retail   90.35       37.334710   \n",
       "\n",
       "     Dividend Yield  Earnings/Share  52 Week Low  52 Week High    Market Cap  \\\n",
       "39           0.0040            6.08    164.08000        260.10  3.785299e+12   \n",
       "350          0.0003            2.53     47.32000        152.89  3.288762e+12   \n",
       "320          0.0078           12.11    366.50000        468.35  3.133802e+12   \n",
       "19           0.0042            7.53    130.67000        201.42  2.325172e+12   \n",
       "20           0.0042            7.53    131.55000        202.88  2.321559e+12   \n",
       "22              NaN            4.67    144.05000        233.00  2.306886e+12   \n",
       "314          0.0034           21.17    340.01000        638.40  1.478114e+12   \n",
       "444             NaN            3.63    138.80000        488.54  1.296351e+12   \n",
       "72           0.0117            1.30    104.15100        251.88  1.086717e+12   \n",
       "483          0.0099            2.42     51.86667         96.18  7.258168e+11   \n",
       "\n",
       "           EBITDA  Price/Sales  Price/Book  \n",
       "39   1.346610e+11     9.680204   66.477300  \n",
       "350  6.118400e+10    34.148730   77.001144  \n",
       "320  1.365520e+11    12.328582   10.893443  \n",
       "19   1.234700e+11     6.841578    7.390778  \n",
       "20   1.234700e+11     6.830946    7.435287  \n",
       "22   1.115830e+11     3.720016    8.898397  \n",
       "314  7.920900e+10     9.461324    8.982144  \n",
       "444  1.324400e+10    13.343804   18.519674  \n",
       "72   2.295800e+10    23.213020    3.914827  \n",
       "483  4.077900e+10     1.091396    8.677487  "
      ]
     },
     "execution_count": 11,
     "metadata": {},
     "output_type": "execute_result"
    }
   ],
   "source": [
    "df_constituents_financials.sort_values('Market Cap',ascending=False).head(n=10).index.values\n",
    "df_constituents_financials.nlargest(10,'Market Cap') #or .nsmallest()"
   ]
  },
  {
   "cell_type": "markdown",
   "id": "04385cf5-dfa2-427f-bf91-7588ce901a8f",
   "metadata": {},
   "source": [
    "##### **Filtering, sorting and counting**"
   ]
  },
  {
   "cell_type": "code",
   "execution_count": 17,
   "id": "9e7b83d8-e582-4536-a98b-dd178ec25d93",
   "metadata": {},
   "outputs": [
    {
     "data": {
      "text/plain": [
       "0"
      ]
     },
     "execution_count": 17,
     "metadata": {},
     "output_type": "execute_result"
    }
   ],
   "source": [
    "len(df_constituents_financials[df_constituents_financials['Dividend Yield']> 2])"
   ]
  },
  {
   "cell_type": "code",
   "execution_count": 19,
   "id": "49cd2a1f-4e2c-4220-8d48-8942a484d07e",
   "metadata": {},
   "outputs": [
    {
     "data": {
      "text/plain": [
       "9.354375"
      ]
     },
     "execution_count": 19,
     "metadata": {},
     "output_type": "execute_result"
    }
   ],
   "source": [
    "# Mean EPS for companies with market cap > 1e+11\n",
    "df_constituents_financials[df_constituents_financials['Market Cap']>1e+11]['Earnings/Share'].mean()"
   ]
  },
  {
   "cell_type": "code",
   "execution_count": 23,
   "id": "56886691-b101-4a3c-8319-416e5bec851c",
   "metadata": {},
   "outputs": [
    {
     "data": {
      "text/plain": [
       "27.05"
      ]
     },
     "execution_count": 23,
     "metadata": {},
     "output_type": "execute_result"
    }
   ],
   "source": [
    "# 52 week high of the company who pays highest dividend yield\n",
    "symbol = df_constituents_financials['Dividend Yield'].idxmax()\n",
    "df_constituents_financials.loc[symbol]['52 Week High']"
   ]
  },
  {
   "cell_type": "markdown",
   "id": "dc351907-fbe9-459e-979b-b367fcc3645f",
   "metadata": {},
   "source": [
    "##### **Custom Function to find largest spread between 52W high/low /np.vectorize**"
   ]
  },
  {
   "cell_type": "code",
   "execution_count": null,
   "id": "cd2c2a68-9aff-4a16-9793-3b34b98da0cd",
   "metadata": {},
   "outputs": [],
   "source": [
    "def spread_52W(high,low):\n",
    "    spread = abs(high - low)\n",
    "    return spread\n",
    "\n",
    "#df_constituents_financials[['52 Week High','52 Week Low']].apply(lambda df_constituents_financials:spread_52W(df_constituents_financials['52 Week High'],df_constituents_financials['52 Week Low']),axis=1).sort_values(ascending=False).head(n=1).index.values\n",
    "\n",
    "df_constituents_financials['52 Week High/Low Spread'] = np.vectorize(spread_52W)(df_constituents_financials['52 Week High'],df_constituents_financials['52 Week Low'])\n",
    "df_constituents_financials.nlargest(1,'52 Week High/Low Spread').index.values"
   ]
  },
  {
   "cell_type": "markdown",
   "id": "8bec7df6-367e-41a4-b659-b75b8d45172b",
   "metadata": {},
   "source": [
    "##### **Insert new column**"
   ]
  },
  {
   "cell_type": "code",
   "execution_count": null,
   "id": "a820b455-357f-4d17-b74e-ebd9c9cdaddd",
   "metadata": {},
   "outputs": [],
   "source": [
    "df_constituents_financials['Market Cap in Billion'] = df_constituents_financials['Market Cap']/1000000000"
   ]
  },
  {
   "cell_type": "markdown",
   "id": "a0ce8e2b-9431-405b-858f-41ca3627f9b9",
   "metadata": {},
   "source": [
    "##### **Find correlation bewteen two columns**"
   ]
  },
  {
   "cell_type": "code",
   "execution_count": null,
   "id": "91e2b854-9f82-4af0-b51a-bf3475b3d9f7",
   "metadata": {},
   "outputs": [],
   "source": [
    "df_constituents_financials[['Market Cap','Dividend Yield']].corr()"
   ]
  },
  {
   "cell_type": "markdown",
   "id": "943d0bbc-3a16-4040-93ac-8953c8c59a98",
   "metadata": {},
   "source": [
    "##### **Merge two dataframes**"
   ]
  },
  {
   "cell_type": "code",
   "execution_count": null,
   "id": "2374dc54-2273-449c-aeeb-bb51e2e47759",
   "metadata": {},
   "outputs": [],
   "source": [
    "df_constituents = df_constituents.set_index(keys='Symbol')\n",
    "df_constituents.merge(df_constituents_financials,left_index=True,right_index=True)"
   ]
  },
  {
   "cell_type": "markdown",
   "id": "d66c9142-6341-4a57-9587-3a2281c02c7c",
   "metadata": {},
   "source": [
    "##### **Count number of companies in each sectors**"
   ]
  },
  {
   "cell_type": "code",
   "execution_count": null,
   "id": "0ea4d5d3-fff0-4a59-9bfe-7f9ed40dd0dc",
   "metadata": {},
   "outputs": [],
   "source": [
    "df_constituents['Sector'].value_counts()"
   ]
  },
  {
   "cell_type": "markdown",
   "id": "dd2c2cca-2776-42d5-ae38-9603378e71d9",
   "metadata": {},
   "source": [
    "##### **Get unique values and number of unique values**"
   ]
  },
  {
   "cell_type": "code",
   "execution_count": 56,
   "id": "2f10d2b7-fc6a-4277-ade8-6a70adb5a9cb",
   "metadata": {},
   "outputs": [
    {
     "data": {
      "text/plain": [
       "Sector\n",
       "Health Care Equipment                           18\n",
       "Semiconductors                                  15\n",
       "Electric Utilities                              15\n",
       "Industrial Machinery & Supplies & Components    14\n",
       "Multi-Utilities                                 12\n",
       "                                                ..\n",
       "Other Specialized REITs                          1\n",
       "Computer & Electronics Retail                    1\n",
       "Multi-Sector Holdings                            1\n",
       "Metal, Glass & Plastic Containers                1\n",
       "Timber REITs                                     1\n",
       "Name: count, Length: 127, dtype: int64"
      ]
     },
     "execution_count": 56,
     "metadata": {},
     "output_type": "execute_result"
    }
   ],
   "source": [
    "df['sex'].unique()\n",
    "df['day'].nunique()"
   ]
  },
  {
   "cell_type": "markdown",
   "id": "f0f2b667-a280-4530-be78-4bde2d385c19",
   "metadata": {},
   "source": [
    "##### **Replace values in columns**"
   ]
  },
  {
   "cell_type": "code",
   "execution_count": 111,
   "id": "24687af2-4add-4e65-8a9b-013dae4db19e",
   "metadata": {},
   "outputs": [],
   "source": [
    "df_constituents['Sector'] = df_constituents['Sector'].replace(to_replace='Information Technology',value='IT')\n"
   ]
  },
  {
   "cell_type": "markdown",
   "id": "bbb559a1-d99c-4e3d-95f5-ff085e838d9b",
   "metadata": {},
   "source": [
    "##### **Adding custom symbol with .format()**"
   ]
  },
  {
   "cell_type": "code",
   "execution_count": null,
   "id": "b6cffe08-39ac-4312-b70c-75d7e34877b8",
   "metadata": {},
   "outputs": [],
   "source": [
    "def format_currency(amount):\n",
    "    return '${:}'.format(amount)\n",
    "\n",
    "df_constituents_financials.apply(lambda df_constituents_financials:format_currency(df_constituents_financials['Price']),axis=1)\n",
    "df_constituents_financials['Price'].apply(format_currency)"
   ]
  },
  {
   "cell_type": "markdown",
   "id": "678444cb-f6b8-4791-81b1-7f0cc9ff0216",
   "metadata": {},
   "source": [
    "##### **Apply custom function based on conditions with .apply()**"
   ]
  },
  {
   "cell_type": "code",
   "execution_count": null,
   "id": "ef17b9a2-3b7d-4abd-9347-73b5ffd10c9d",
   "metadata": {},
   "outputs": [],
   "source": [
    "def yelp(price):\n",
    "    if price < 10:\n",
    "        return '$'\n",
    "    elif price >= 10 and price < 30:\n",
    "        return '$$'\n",
    "    else:\n",
    "        return '$$$'\n",
    "# Functions to be applied should just return a single value to be applied to every row"
   ]
  },
  {
   "cell_type": "code",
   "execution_count": null,
   "id": "8478fa0a-504c-4130-b3c9-e1acf800c2a7",
   "metadata": {},
   "outputs": [],
   "source": [
    "df['Expensive'] = df['total_bill'].apply(yelp)\n",
    "# OR using lambda expression\n",
    "df['total_bill'].apply(lambda bill:bill*0.18)\n",
    "\n",
    "df[df['Expensive'] == '$']\n",
    "# Filter out all results with '$'"
   ]
  },
  {
   "cell_type": "markdown",
   "id": "758224a4-28a9-4924-9445-1fb69dca6a5b",
   "metadata": {},
   "source": [
    "##### **Custom function with multiple input using lambda or np.vectorize()**"
   ]
  },
  {
   "cell_type": "code",
   "execution_count": null,
   "id": "011e37fc-a85e-4ea5-9918-42967935aef1",
   "metadata": {},
   "outputs": [],
   "source": [
    "def quality(total_bill,tip):\n",
    "    if tip/total_bill  > 0.25:\n",
    "        return \"Generous\"\n",
    "    else:\n",
    "        return \"Other\""
   ]
  },
  {
   "cell_type": "code",
   "execution_count": null,
   "id": "ba39224b-ff4d-4dd3-854e-fa8b17c9f14e",
   "metadata": {},
   "outputs": [],
   "source": [
    "# Add a new column and apply new functino with 2 parameters\n",
    "df['Tip Quality'] = df[['total_bill','tip']].apply(lambda df: quality(df['total_bill'],df['tip']),axis=1)\n",
    "\n",
    "#OR with np.vectorize()\n",
    "import numpy as np\n",
    "df['Tip Quality'] = np.vectorize(quality)(df['total_bill'],df['tip'])"
   ]
  },
  {
   "cell_type": "markdown",
   "id": "47b22902-66bb-4c47-8484-a93bfc34bb70",
   "metadata": {},
   "source": [
    "##### **Statistical Summary**"
   ]
  },
  {
   "cell_type": "code",
   "execution_count": null,
   "id": "6121f8d7-9ba0-4cc6-9696-d0efa93c5024",
   "metadata": {},
   "outputs": [],
   "source": [
    "df.describe()"
   ]
  },
  {
   "cell_type": "markdown",
   "id": "a59d42e4-c4bc-4ad9-b5a1-43605c391f9e",
   "metadata": {},
   "source": [
    "##### **Sort values by columns**"
   ]
  },
  {
   "cell_type": "code",
   "execution_count": null,
   "id": "6e71b521-b096-4dec-a087-971017585386",
   "metadata": {},
   "outputs": [],
   "source": [
    "df.sort_values('tip',ascending=False)\n",
    "# Helpful if you want to reorder after a sort\n",
    "# https://stackoverflow.com/questions/13148429/how-to-change-the-order-of-dataframe-columns\n",
    "df.sort_values(['tip','size'])"
   ]
  },
  {
   "cell_type": "markdown",
   "id": "47b9be91-83b9-424e-9d54-920bf44f1d73",
   "metadata": {},
   "source": [
    "##### **Mapping of values**"
   ]
  },
  {
   "cell_type": "code",
   "execution_count": null,
   "id": "b8ba7078-7b49-48dc-ac01-a7b72e3c137e",
   "metadata": {},
   "outputs": [],
   "source": [
    "my_map = {'Dinner':'D','Lunch':'L'}\n",
    "df['time'] = df['time'].map(my_map)"
   ]
  },
  {
   "cell_type": "markdown",
   "id": "a7afa043-5f9a-46a5-b348-ae1948c9f908",
   "metadata": {},
   "source": [
    "##### **Duplicate Values**"
   ]
  },
  {
   "cell_type": "code",
   "execution_count": null,
   "id": "4476e0be-ddff-4b40-a624-2c9024c27a9f",
   "metadata": {},
   "outputs": [],
   "source": [
    "# Returns True for the 1st instance of a duplicated row\n",
    "df.duplicated()\n",
    "df.drop_duplicates()"
   ]
  },
  {
   "cell_type": "markdown",
   "id": "3ba9fdbe-afa5-46b3-893e-04e8a535e83b",
   "metadata": {},
   "source": [
    "##### **Between**"
   ]
  },
  {
   "cell_type": "code",
   "execution_count": null,
   "id": "660497fb-8336-45e8-88ca-b31880038f24",
   "metadata": {},
   "outputs": [],
   "source": [
    "df[df['total_bill'].between(10,20,inclusive='both')]"
   ]
  },
  {
   "cell_type": "markdown",
   "id": "73447d9d-67f6-4066-8e52-1a73b6d4006c",
   "metadata": {},
   "source": [
    "##### **Sample**"
   ]
  },
  {
   "cell_type": "code",
   "execution_count": null,
   "id": "f633cdce-70c5-4790-b83b-ff3b19c3d659",
   "metadata": {},
   "outputs": [],
   "source": [
    "df.sample(frac=0.1)"
   ]
  },
  {
   "cell_type": "markdown",
   "id": "8dc32db2-9c4d-41c0-ac94-79e01a4919c4",
   "metadata": {},
   "source": [
    "##### **Python Datetime**"
   ]
  },
  {
   "cell_type": "code",
   "execution_count": 52,
   "id": "0910405f-682b-41df-ba3c-89287795699c",
   "metadata": {},
   "outputs": [],
   "source": [
    "from datetime import datetime\n",
    "my_date_time = datetime(2020,3,20,14,4,28)"
   ]
  },
  {
   "cell_type": "code",
   "execution_count": 56,
   "id": "511002b7-8e7f-4750-80a5-a3fe2ebcb19f",
   "metadata": {},
   "outputs": [
    {
     "data": {
      "text/plain": [
       "28"
      ]
     },
     "execution_count": 56,
     "metadata": {},
     "output_type": "execute_result"
    }
   ],
   "source": [
    "my_date_time.day\n",
    "my_date_time.second"
   ]
  },
  {
   "cell_type": "markdown",
   "id": "a3707fd1-b989-4899-99c9-c567bf855565",
   "metadata": {},
   "source": [
    "##### **Converting using Pandas .to_datetime()**"
   ]
  },
  {
   "cell_type": "code",
   "execution_count": 80,
   "id": "5861c3c3-9083-4d6b-a093-330852981adc",
   "metadata": {},
   "outputs": [],
   "source": [
    "import pandas as pd\n",
    "mydateseries = pd.Series(['Nov 20, 2021','2023-02-26',None])"
   ]
  },
  {
   "cell_type": "code",
   "execution_count": null,
   "id": "a07d8a9d-505a-4a38-8331-820e6c25138b",
   "metadata": {},
   "outputs": [],
   "source": [
    "pd.to_datetime(mydateseries, format='mixed')"
   ]
  },
  {
   "cell_type": "code",
   "execution_count": null,
   "id": "e2db3e50-11e4-4682-8992-3d1a0fb71ea5",
   "metadata": {},
   "outputs": [],
   "source": [
    "#Custom Format (day first)\n",
    "eur_date = '10-12-2012'\n",
    "pd.to_datetime(eur_date,dayfirst=True)"
   ]
  },
  {
   "cell_type": "code",
   "execution_count": null,
   "id": "929f769d-7c8a-4e41-bf37-0a833ba89b87",
   "metadata": {},
   "outputs": [],
   "source": [
    "style_date = '12--Dec--2000'\n",
    "pd.to_datetime(style_date, format='%d--%b--%Y')\n",
    "strange_date = '12th of Dec 2000'\n",
    "pd.to_datetime(strange_date)"
   ]
  },
  {
   "cell_type": "markdown",
   "id": "123fca44-8197-4591-ad88-310f840ae047",
   "metadata": {},
   "source": [
    "##### **Parse dates using Pandas**"
   ]
  },
  {
   "cell_type": "code",
   "execution_count": 139,
   "id": "e2e239fd-20de-497b-9a80-8611a860763a",
   "metadata": {},
   "outputs": [],
   "source": [
    "retail_sales_df = pd.read_csv('https://fred.stlouisfed.org/graph/fredgraph.csv?bgcolor=%23e1e9f0&chart_type=line&drp=0&fo=open%20sans&graph_bgcolor=%23ffffff&height=450&mode=fred&recession_bars=on&txtcolor=%23444444&ts=12&tts=12&width=720&nt=0&thu=0&trc=0&show_legend=yes&show_axis_titles=yes&show_tooltip=yes&id=MRTSSM4453USN&scale=left&cosd=1992-01-01&coed=2024-11-01&line_color=%234572a7&link_values=false&line_style=solid&mark_type=none&mw=3&lw=3&ost=-99999&oet=99999&mma=0&fml=a&fq=Monthly&fam=avg&fgst=lin&fgsnd=2020-02-01&line_index=1&transformation=lin&vintage_date=2025-01-28&revision_date=2025-01-28&nd=1992-01-01')"
   ]
  },
  {
   "cell_type": "code",
   "execution_count": 141,
   "id": "387a81f1-4280-44d0-a69f-18f4a0e00628",
   "metadata": {},
   "outputs": [],
   "source": [
    "retail_sales_df['observation_date'] = pd.to_datetime(retail_sales_df['observation_date'])"
   ]
  },
  {
   "cell_type": "code",
   "execution_count": 240,
   "id": "9e7ef26a-e536-43c1-9585-11ac8f5ab32f",
   "metadata": {},
   "outputs": [],
   "source": [
    "#Parse automatically using parse_dates parameter\n",
    "link = 'https://fred.stlouisfed.org/graph/fredgraph.csv?bgcolor=%23e1e9f0&chart_type=line&drp=0&fo=open%20sans&graph_bgcolor=%23ffffff&height=450&mode=fred&recession_bars=on&txtcolor=%23444444&ts=12&tts=12&width=720&nt=0&thu=0&trc=0&show_legend=yes&show_axis_titles=yes&show_tooltip=yes&id=MRTSSM4453USN&scale=left&cosd=1992-01-01&coed=2024-11-01&line_color=%234572a7&link_values=false&line_style=solid&mark_type=none&mw=3&lw=3&ost=-99999&oet=99999&mma=0&fml=a&fq=Monthly&fam=avg&fgst=lin&fgsnd=2020-02-01&line_index=1&transformation=lin&vintage_date=2025-01-28&revision_date=2025-01-28&nd=1992-01-01'\n",
    "retail_sales_df1 = pd.read_csv(link,index_col='observation_date',parse_dates=True)"
   ]
  },
  {
   "cell_type": "markdown",
   "id": "158ceb00-b64d-4454-b6b2-8026fcc1348d",
   "metadata": {},
   "source": [
    "##### **Data aggregation using resample()**"
   ]
  },
  {
   "cell_type": "code",
   "execution_count": 121,
   "id": "7984ed53-d97c-425b-be68-8591cc4c3b8e",
   "metadata": {},
   "outputs": [],
   "source": [
    "#Set date as index first\n",
    "retail_sales_df = retail_sales_df.set_index('observation_date')\n",
    "retail_sales_df.resample(rule='YE').mean()"
   ]
  },
  {
   "cell_type": "markdown",
   "id": "270a5384-22cf-4cf0-8f7b-b7db6049937d",
   "metadata": {},
   "source": [
    "<table style=\"display: inline-block\">\n",
    "    <caption style=\"text-align: center\"><strong>TIME SERIES OFFSET ALIASES</strong></caption>\n",
    "<tr><th>ALIAS</th><th>DESCRIPTION</th></tr>\n",
    "<tr><td>B</td><td>business day frequency</td></tr>\n",
    "<tr><td>C</td><td>custom business day frequency (experimental)</td></tr>\n",
    "<tr><td>D</td><td>calendar day frequency</td></tr>\n",
    "<tr><td>W</td><td>weekly frequency</td></tr>\n",
    "<tr><td>M</td><td>month end frequency</td></tr>\n",
    "<tr><td>SM</td><td>semi-month end frequency (15th and end of month)</td></tr>\n",
    "<tr><td>BM</td><td>business month end frequency</td></tr>\n",
    "<tr><td>CBM</td><td>custom business month end frequency</td></tr>\n",
    "<tr><td>MS</td><td>month start frequency</td></tr>\n",
    "<tr><td>SMS</td><td>semi-month start frequency (1st and 15th)</td></tr>\n",
    "<tr><td>BMS</td><td>business month start frequency</td></tr>\n",
    "<tr><td>CBMS</td><td>custom business month start frequency</td></tr>\n",
    "<tr><td>Q</td><td>quarter end frequency</td></tr>\n",
    "<tr><td></td><td><font color=white>intentionally left blank</font></td></tr></table>\n",
    "\n",
    "<table style=\"display: inline-block; margin-left: 40px\">\n",
    "<caption style=\"text-align: center\"></caption>\n",
    "<tr><th>ALIAS</th><th>DESCRIPTION</th></tr>\n",
    "<tr><td>BQ</td><td>business quarter endfrequency</td></tr>\n",
    "<tr><td>QS</td><td>quarter start frequency</td></tr>\n",
    "<tr><td>BQS</td><td>business quarter start frequency</td></tr>\n",
    "<tr><td>A</td><td>year end frequency</td></tr>\n",
    "<tr><td>BA</td><td>business year end frequency</td></tr>\n",
    "<tr><td>AS</td><td>year start frequency</td></tr>\n",
    "<tr><td>BAS</td><td>business year start frequency</td></tr>\n",
    "<tr><td>BH</td><td>business hour frequency</td></tr>\n",
    "<tr><td>H</td><td>hourly frequency</td></tr>\n",
    "<tr><td>T, min</td><td>minutely frequency</td></tr>\n",
    "<tr><td>S</td><td>secondly frequency</td></tr>\n",
    "<tr><td>L, ms</td><td>milliseconds</td></tr>\n",
    "<tr><td>U, us</td><td>microseconds</td></tr>\n",
    "<tr><td>N</td><td>nanoseconds</td></tr></table>"
   ]
  },
  {
   "cell_type": "markdown",
   "id": "9a64a37f-1115-47d4-949a-a5eb611d754e",
   "metadata": {},
   "source": [
    "##### **Get date properties using .dt**"
   ]
  },
  {
   "cell_type": "code",
   "execution_count": null,
   "id": "b01ad4c6-440a-446f-9086-488921a1b8e3",
   "metadata": {},
   "outputs": [],
   "source": [
    "#Create date range in pandas\n",
    "idx = pd.date_range(start='2018-01-01', freq='D', periods=3)"
   ]
  },
  {
   "cell_type": "code",
   "execution_count": null,
   "id": "2d58bf27-5529-411e-aa41-79c1ac163ebe",
   "metadata": {},
   "outputs": [],
   "source": [
    "retail_sales_df.reset_index()"
   ]
  },
  {
   "cell_type": "code",
   "execution_count": null,
   "id": "1b6c91bd-bb01-4c0e-88a7-77d7b21ffd8e",
   "metadata": {},
   "outputs": [],
   "source": [
    "retail_sales_df['observation_date'] = pd.to_datetime(retail_sales_df['observation_date'])\n",
    "retail_sales_df['observation_date'].dt.day_name()\n",
    "sales['DATE'].dt.month\n",
    "sales['DATE'].dt.is_leap_year"
   ]
  },
  {
   "cell_type": "markdown",
   "id": "9fa36015-a3d8-4e08-a939-11aeccfc1cf8",
   "metadata": {},
   "source": [
    "##### **Yahoo Finance Data Source**"
   ]
  },
  {
   "cell_type": "code",
   "execution_count": 159,
   "id": "16d1db2f-0629-49b0-9fb4-5efda929b6fe",
   "metadata": {},
   "outputs": [
    {
     "name": "stderr",
     "output_type": "stream",
     "text": [
      "[*********************100%***********************]  1 of 1 completed\n"
     ]
    }
   ],
   "source": [
    "import yfinance as yf\n",
    "apple= yf.download(\"AAPL\",start='2020-01-01',end='2025-02-01')\n",
    "apple.head(10)"
   ]
  },
  {
   "cell_type": "code",
   "execution_count": 171,
   "id": "6096042c-059b-4a07-a8af-97e55d2a8dcf",
   "metadata": {},
   "outputs": [],
   "source": [
    "#Get fundamentals or corporate action data\n",
    "apple_ticker = yf.Ticker('AAPL')\n",
    "apple_ticker.get_balance_sheet()\n",
    "apple_ticker.actions\n",
    "apple_ticker.dividends\n",
    "apple_ticker.recommendations\n",
    "apple_ticker.sustainability"
   ]
  },
  {
   "cell_type": "markdown",
   "id": "bcb281be-704c-4ea2-87e3-ac877e421d26",
   "metadata": {},
   "source": [
    "##### **FRED St. Louis Fed Data Source**"
   ]
  },
  {
   "cell_type": "code",
   "execution_count": 179,
   "id": "db366926-c8ac-49b7-91d7-b5aee027fa0a",
   "metadata": {},
   "outputs": [],
   "source": [
    "#Sample data: https://fred.stlouisfed.org/series/T10YIE\n",
    "#10-Year Breakeven Inflation Rate (T10YIE)"
   ]
  },
  {
   "cell_type": "code",
   "execution_count": 185,
   "id": "6bb45b4d-8088-4833-a899-150140f84ab5",
   "metadata": {},
   "outputs": [],
   "source": [
    "import pandas_datareader as web\n",
    "from datetime import date\n",
    "ty_inflation_df = web.DataReader('T10YIE', 'fred', start='2000-01-01', end=date.today())"
   ]
  },
  {
   "cell_type": "code",
   "execution_count": null,
   "id": "f257a20e-1195-4253-8b39-17129b67fa2a",
   "metadata": {},
   "outputs": [],
   "source": [
    "ty_inflation_df.plot()"
   ]
  },
  {
   "cell_type": "markdown",
   "id": "08dcbf6b-3e74-4155-bba4-579647bbfe07",
   "metadata": {},
   "source": [
    "##### **Line Plot and Histogram**"
   ]
  },
  {
   "cell_type": "code",
   "execution_count": null,
   "id": "3a5e9390-dd8b-49da-a2b8-07cf79a39bb1",
   "metadata": {},
   "outputs": [],
   "source": [
    "apple[['Adj Close','High']].plot()"
   ]
  },
  {
   "cell_type": "code",
   "execution_count": null,
   "id": "a4981f33-38c7-4969-9994-f1b39554ef56",
   "metadata": {},
   "outputs": [],
   "source": [
    "apple['Close'].plot(kind='hist',bins=200)"
   ]
  },
  {
   "cell_type": "markdown",
   "id": "5f46a0c4-a426-482d-a69c-dc2a3d505bec",
   "metadata": {},
   "source": [
    "##### **Editing Pandas Plots Using Matplotlib**"
   ]
  },
  {
   "cell_type": "code",
   "execution_count": null,
   "id": "e036c4f1-69d3-400e-b5db-b63e14450fef",
   "metadata": {},
   "outputs": [],
   "source": [
    "import matplotlib.pyplot as plt\n",
    "plt.figure(figsize=(10,3),dpi=150)\n",
    "apple['Adj Close'].plot()\n",
    "#Make sure these two lines are in the same cell"
   ]
  },
  {
   "cell_type": "code",
   "execution_count": 202,
   "id": "102907e7-0390-4ea1-a624-115405a3b069",
   "metadata": {},
   "outputs": [
    {
     "name": "stderr",
     "output_type": "stream",
     "text": [
      "[*********************100%***********************]  1 of 1 completed\n"
     ]
    }
   ],
   "source": [
    "#Connecting two plots under same axis\n",
    "walmart = yf.download('WMT',start='2020-01-01',end='2024-03-01')"
   ]
  },
  {
   "cell_type": "code",
   "execution_count": null,
   "id": "444d7788-1902-4e27-8223-3fb7a471a7fa",
   "metadata": {},
   "outputs": [],
   "source": [
    "fig, ax = plt.subplots()\n",
    "apple['Adj Close'].plot(ax=ax)\n",
    "walmart['Adj Close'].plot(ax=ax)"
   ]
  },
  {
   "cell_type": "code",
   "execution_count": null,
   "id": "b2a9cfa5-8f89-4406-bdae-1a6fb94c529a",
   "metadata": {},
   "outputs": [],
   "source": [
    "#Legends and Labels\n",
    "fig,ax = plt.subplots()\n",
    "walmart['Adj Close'].plot(ax=ax,label='WMT Adj Close',ls='--',lw=0.8,color='blue')\n",
    "apple[['Adj Close','High']].plot(ax=ax)\n",
    "plt.legend()"
   ]
  },
  {
   "cell_type": "code",
   "execution_count": null,
   "id": "1817274d-0c1d-4c43-8c5a-6372df0c1c44",
   "metadata": {},
   "outputs": [],
   "source": [
    "#Styling inside .plot() command and saving pandas plots\n",
    "plt.figure(dpi=300)\n",
    "apple['Adj Close'].plot(figsize=(10,3),lw='2',ls='--',color='red',\n",
    "                        xlabel='INDEX',ylabel='ADJ CLOSE');\n",
    "plt.savefig('my_pandas_plot.png')"
   ]
  },
  {
   "cell_type": "code",
   "execution_count": null,
   "id": "746a4bfa-3384-45c2-9ad6-3983f4946a61",
   "metadata": {},
   "outputs": [],
   "source": [
    "#Set X limit by slicing dates\n",
    "apple['Close']['2021-01-01':'2022-01-01'].plot(figsize=(12,4))"
   ]
  },
  {
   "cell_type": "code",
   "execution_count": null,
   "id": "1514256c-385b-42f1-9a1a-8ccf32316c92",
   "metadata": {},
   "outputs": [],
   "source": [
    "#Set Y limit by finding min and max over the date range\n",
    "apple.loc['2018-01-01':'2019-01-01']['Close'].min()\n",
    "apple.loc['2018-01-01':'2019-01-01']['Close'].max()\n",
    "apple['Close'].plot(figsize=(12,4),xlim=['2018-01-01','2019-01-01'],ylim=[170,250]);"
   ]
  },
  {
   "cell_type": "markdown",
   "id": "c898f178-c770-47ca-a465-eeab0349a368",
   "metadata": {},
   "source": [
    "##### **Major Ticks along x-axis (spacing and format)**"
   ]
  },
  {
   "cell_type": "code",
   "execution_count": null,
   "id": "349624fb-c50a-47f1-8f76-4be4cb3f14d1",
   "metadata": {},
   "outputs": [],
   "source": [
    "#Tick locator\n",
    "from matplotlib import dates\n",
    "ax = apple['Close'].plot(xlim=('2018-01-01','2018-03-01'),xlabel='',ylabel='price',ylim=(170,210))\n",
    "# SET THE TICK LOCATOR AND FORMATTER FOR THE MAJOR AXIS\n",
    "ax.xaxis.set_major_locator(dates.WeekdayLocator(byweekday=0))\n",
    "ax.xaxis.set_major_locator(dates.MonthLocator())\n",
    "ax.xaxis.set_major_locator(dates.YearLocator())\n",
    "ax.xaxis.set_major_locator(dates.DayLocator())\n",
    "#The dates themselves correspond with byweekday=0, or Mondays.\n",
    "#For a full list of locator options available from matplotlib.dates visit \n",
    "#https://matplotlib.org/api/dates_api.html#date-tickers\n",
    "\n",
    "#Tick formatter\n",
    "ax.xaxis.set_major_formatter(dates.DateFormatter(\"%Y-%b-%d\"))"
   ]
  },
  {
   "cell_type": "code",
   "execution_count": null,
   "id": "0d1f3d36-6e06-45e0-9719-7e9cbecc1b7b",
   "metadata": {},
   "outputs": [],
   "source": [
    "#Date format test\n",
    "from datetime import datetime\n",
    "datetime(2001, 2, 3, 16, 5, 6).strftime(\"%A, %B %d, %Y  %I:%M:%S %p\")"
   ]
  },
  {
   "cell_type": "markdown",
   "id": "0276edf3-55cf-49c0-b92d-25aa9bb7393c",
   "metadata": {},
   "source": [
    "## Formator\n",
    "\n",
    "### Date Formatting\n",
    "Formatting follows the Python datetime <strong><a href='http://strftime.org/'>strftime</a></strong> codes.<br>\n",
    "The following examples are based on <tt>datetime.datetime(2001, 2, 3, 16, 5, 6)</tt>:\n",
    "<br><br>\n",
    "\n",
    "<table style=\"display: inline-block\">  \n",
    "<tr><th>CODE</th><th>MEANING</th><th>EXAMPLE</th><tr>\n",
    "<tr><td>%Y</td><td>Year with century as a decimal number.</td><td>2001</td></tr>\n",
    "<tr><td>%y</td><td>Year without century as a zero-padded decimal number.</td><td>01</td></tr>\n",
    "<tr><td>%m</td><td>Month as a zero-padded decimal number.</td><td>02</td></tr>\n",
    "<tr><td>%B</td><td>Month as locale’s full name.</td><td>February</td></tr>\n",
    "<tr><td>%b</td><td>Month as locale’s abbreviated name.</td><td>Feb</td></tr>\n",
    "<tr><td>%d</td><td>Day of the month as a zero-padded decimal number.</td><td>03</td></tr>  \n",
    "<tr><td>%A</td><td>Weekday as locale’s full name.</td><td>Saturday</td></tr>\n",
    "<tr><td>%a</td><td>Weekday as locale’s abbreviated name.</td><td>Sat</td></tr>\n",
    "<tr><td>%H</td><td>Hour (24-hour clock) as a zero-padded decimal number.</td><td>16</td></tr>\n",
    "<tr><td>%I</td><td>Hour (12-hour clock) as a zero-padded decimal number.</td><td>04</td></tr>\n",
    "<tr><td>%p</td><td>Locale’s equivalent of either AM or PM.</td><td>PM</td></tr>\n",
    "<tr><td>%M</td><td>Minute as a zero-padded decimal number.</td><td>05</td></tr>\n",
    "<tr><td>%S</td><td>Second as a zero-padded decimal number.</td><td>06</td></tr>\n",
    "</table>\n",
    "<table style=\"display: inline-block\">\n",
    "<tr><th>CODE</th><th>MEANING</th><th>EXAMPLE</th><tr>\n",
    "<tr><td>%#m</td><td>Month as a decimal number. (Windows)</td><td>2</td></tr>\n",
    "<tr><td>%-m</td><td>Month as a decimal number. (Mac/Linux)</td><td>2</td></tr>\n",
    "<tr><td>%#x</td><td>Long date</td><td>Saturday, February 03, 2001</td></tr>\n",
    "<tr><td>%#c</td><td>Long date and time</td><td>Saturday, February 03, 2001 16:05:06</td></tr>\n",
    "</table>  \n",
    "    "
   ]
  },
  {
   "cell_type": "markdown",
   "id": "123c58e8-6c5f-4527-ab34-a624277db8d2",
   "metadata": {},
   "source": [
    "##### **Minor Ticks along x-axis**"
   ]
  },
  {
   "cell_type": "code",
   "execution_count": null,
   "id": "c7a7b7f1-a3f3-4323-8dba-bcab29e2df88",
   "metadata": {},
   "outputs": [],
   "source": [
    "#Rotate Minor ticks\n",
    "plt.figure(dpi=100,figsize=(10,3))\n",
    "ax = apple['Close']['2018-01-01':'2020-01-01'].plot()\n",
    "\n",
    "# SET THE TICK LOCATOR AND FORMATTER FOR THE MAJOR AXIS\n",
    "ax.xaxis.set_major_locator(dates.YearLocator())\n",
    "ax.xaxis.set_major_formatter(dates.DateFormatter(\"%Y\"))\n",
    "\n",
    "# SET THE TICK LOCATOR AND FORMATTER FOR THE MINOR AXIS\n",
    "ax.xaxis.set_minor_locator(dates.MonthLocator())\n",
    "ax.xaxis.set_minor_formatter(dates.DateFormatter(\"%B\"))\n",
    "\n",
    "\n",
    "# FURTHER EDITING TICK PROPERTIES\n",
    "ax.tick_params(axis='x',which='minor',rotation=45)\n",
    "ax.tick_params(axis='x',which='major',rotation=90,pad=30)"
   ]
  },
  {
   "cell_type": "code",
   "execution_count": null,
   "id": "4c125e6d-9947-49d7-9acd-f9b5c3f397f9",
   "metadata": {},
   "outputs": [],
   "source": [
    "#Include \"January\" instead of just year on major tick\n",
    "plt.figure(dpi=100,figsize=(10,3))\n",
    "ax = apple['Close']['2018-01-01':'2020-01-01'].plot()\n",
    "\n",
    "# SET THE TICK LOCATOR AND FORMATTER FOR THE MAJOR AXIS\n",
    "ax.xaxis.set_major_locator(dates.YearLocator())\n",
    "ax.xaxis.set_major_formatter(dates.DateFormatter(\"%Y %B\"))\n",
    "\n",
    "# SET THE TICK LOCATOR AND FORMATTER FOR THE MINOR AXIS\n",
    "ax.xaxis.set_minor_locator(dates.MonthLocator())\n",
    "ax.xaxis.set_minor_formatter(dates.DateFormatter(\"%B\"))\n",
    "\n",
    "\n",
    "# FURTHER EDITING TICK PROPERTIES\n",
    "\n",
    "ax.tick_params(axis=\"x\", which=\"major\",rotation=45, pad=5)\n",
    "ax.tick_params(axis=\"x\", which=\"minor\",rotation=45)\n",
    "\n",
    "# To get it exactly perfect is a lot more work:\n",
    "# https://stackoverflow.com/questions/28615887/how-to-move-a-ticks-label-in-matplotlib\n",
    "plt.xticks(ha='center');\n",
    "\n",
    "#Adding Gridlines\n",
    "ax.yaxis.grid(True)\n",
    "ax.xaxis.grid(True)"
   ]
  },
  {
   "cell_type": "markdown",
   "id": "266241b4-de56-4099-a4e9-2d15d73f5cd9",
   "metadata": {},
   "source": [
    "##### **Rolling Statistics**"
   ]
  },
  {
   "cell_type": "code",
   "execution_count": null,
   "id": "378c02b1-4eaf-48ab-9ab7-b8194fcdc383",
   "metadata": {},
   "outputs": [],
   "source": [
    "# 7-day rolling mean of every column\n",
    "apple.rolling(7).mean().head(15)"
   ]
  },
  {
   "cell_type": "code",
   "execution_count": null,
   "id": "bff993d4-e77f-4229-80c1-c82cf27a1dc4",
   "metadata": {},
   "outputs": [],
   "source": [
    "# Plot open price vs 30-day rolling mean close\n",
    "apple['Open'].plot()\n",
    "apple.rolling(window=30).mean()['Close'].plot()"
   ]
  },
  {
   "cell_type": "code",
   "execution_count": null,
   "id": "e1e57de3-b102-46c8-ade1-a4cb49b878f9",
   "metadata": {},
   "outputs": [],
   "source": [
    "fig, ax = plt.subplots(nrows=2, ncols=1, figsize=(16, 6))\n",
    "\n",
    "# Calculate the 30-day moving average\n",
    "apple['Close: 30 Day Mean'] = apple['Close'].rolling(window=30).mean()\n",
    "ax[0].plot(apple['Close'], label='Close')\n",
    "ax[0].plot(apple['Close: 30 Day Mean'], label='Close: 30 Day Mean')\n",
    "ax[0].legend(loc='best')  # Add legend to the top subplot\n",
    "\n",
    "# Calculate the 14-day standard deviation\n",
    "apple['Close: 14 Day SD'] = apple['Close'].rolling(window=14).std()\n",
    "ax[1].plot(apple['Close: 14 Day SD'], label='Close: 14 Day SD')\n",
    "ax[1].legend(loc='best')  # Add legend to the bottom subplot"
   ]
  },
  {
   "cell_type": "code",
   "execution_count": null,
   "id": "f440b309-ddb0-4ffc-b6e8-4f626e229e44",
   "metadata": {},
   "outputs": [],
   "source": [
    "#Bollinger bands\n",
    "apple['Close: 30 Day Mean'] = apple['Close'].rolling(window=20).mean()\n",
    "apple['Upper'] = apple['Close: 30 Day Mean'] + 2*apple['Close'].rolling(window=20).std()\n",
    "apple['Lower'] = apple['Close: 30 Day Mean'] - 2*apple['Close'].rolling(window=20).std()\n",
    "apple[['Close','Close: 30 Day Mean','Upper','Lower']].plot(figsize=(16,6))"
   ]
  },
  {
   "cell_type": "markdown",
   "id": "a27e5f80-632c-45fc-bdef-e033599aeeee",
   "metadata": {},
   "source": [
    "##### **Time Shifting**"
   ]
  },
  {
   "cell_type": "code",
   "execution_count": null,
   "id": "6687de8f-dbcc-4085-a3f2-d3dcc70937d5",
   "metadata": {},
   "outputs": [],
   "source": [
    "# Shifting forward (will lose the last piece of data)\n",
    "walmart.shift(1).tail()\n",
    "\n",
    "# Shifting backward\n",
    "walmart.shift(-1).head()\n",
    "\n",
    "# Shift everything forward one month\n",
    "walmart.shift(periods=1,freq='M').head()"
   ]
  },
  {
   "cell_type": "markdown",
   "id": "6a9cb7ca-8d89-475a-aba2-0a568e2fd18c",
   "metadata": {},
   "source": [
    "##### **Differencing and Percent Changes**"
   ]
  },
  {
   "cell_type": "code",
   "execution_count": null,
   "id": "b6ac3276-a426-4d56-8767-5b62bdc3b75d",
   "metadata": {},
   "outputs": [],
   "source": [
    "walmart[\"Adj Close\"].diff(1)"
   ]
  },
  {
   "cell_type": "code",
   "execution_count": null,
   "id": "a44e1fa7-a408-4a15-994e-e7e67454ea80",
   "metadata": {},
   "outputs": [],
   "source": [
    "walmart[\"Adj Close\"].pct_change(1)"
   ]
  },
  {
   "cell_type": "markdown",
   "id": "3d52eac3-9f4f-4edc-926a-1b4a07b98335",
   "metadata": {},
   "source": [
    "##### **Cumulative sum and product**"
   ]
  },
  {
   "cell_type": "code",
   "execution_count": null,
   "id": "872ef49e-39fe-4872-a67c-69018677dbc2",
   "metadata": {},
   "outputs": [],
   "source": [
    "example_series = pd.Series([1,2,3,4])\n",
    "example_series.cumsum()"
   ]
  },
  {
   "cell_type": "code",
   "execution_count": null,
   "id": "7db2bb57-2bff-4bdb-8698-23015dbd88b5",
   "metadata": {},
   "outputs": [],
   "source": [
    "example_series.cumprod()"
   ]
  },
  {
   "cell_type": "code",
   "execution_count": null,
   "id": "88fbc487-3ae5-42d5-8c0d-0010057dceb7",
   "metadata": {},
   "outputs": [],
   "source": []
  },
  {
   "cell_type": "code",
   "execution_count": null,
   "id": "81183d9f-951b-45f4-905e-9f6f61171215",
   "metadata": {},
   "outputs": [],
   "source": []
  },
  {
   "cell_type": "code",
   "execution_count": null,
   "id": "52ec9bbb-f527-4fc1-b86f-dc29523ca23e",
   "metadata": {},
   "outputs": [],
   "source": []
  },
  {
   "cell_type": "code",
   "execution_count": null,
   "id": "8bd76885-e62d-448d-9e6b-f2e86f1ccd8f",
   "metadata": {},
   "outputs": [],
   "source": []
  },
  {
   "cell_type": "code",
   "execution_count": null,
   "id": "5995df38-2e3d-40e7-8599-f1b3208627aa",
   "metadata": {},
   "outputs": [],
   "source": []
  },
  {
   "cell_type": "code",
   "execution_count": null,
   "id": "f671502d-1e46-4ab8-84e2-77996a17d1a6",
   "metadata": {},
   "outputs": [],
   "source": []
  },
  {
   "cell_type": "code",
   "execution_count": null,
   "id": "a586c626-8334-46d5-9011-edfd76a0108d",
   "metadata": {},
   "outputs": [],
   "source": []
  },
  {
   "cell_type": "code",
   "execution_count": null,
   "id": "7c4a68fd-3d1e-452e-88bb-685114359f6b",
   "metadata": {},
   "outputs": [],
   "source": []
  },
  {
   "cell_type": "code",
   "execution_count": null,
   "id": "43d96952-1d89-4cc0-a0e7-38a2d33cb9e5",
   "metadata": {},
   "outputs": [],
   "source": []
  },
  {
   "cell_type": "code",
   "execution_count": null,
   "id": "7207d1fc-6410-49fa-9825-acec81634192",
   "metadata": {},
   "outputs": [],
   "source": []
  },
  {
   "cell_type": "code",
   "execution_count": null,
   "id": "99cdb5d0-a47c-4806-84fe-3ccae38378e4",
   "metadata": {},
   "outputs": [],
   "source": []
  },
  {
   "cell_type": "code",
   "execution_count": null,
   "id": "cdfab862-5d05-4e57-b97f-6025687c4ce6",
   "metadata": {},
   "outputs": [],
   "source": []
  },
  {
   "cell_type": "code",
   "execution_count": null,
   "id": "4b40d6fe-5d8b-4730-a383-758aee291784",
   "metadata": {},
   "outputs": [],
   "source": []
  }
 ],
 "metadata": {
  "kernelspec": {
   "display_name": "Python 3 (ipykernel)",
   "language": "python",
   "name": "python3"
  },
  "language_info": {
   "codemirror_mode": {
    "name": "ipython",
    "version": 3
   },
   "file_extension": ".py",
   "mimetype": "text/x-python",
   "name": "python",
   "nbconvert_exporter": "python",
   "pygments_lexer": "ipython3",
   "version": "3.12.4"
  }
 },
 "nbformat": 4,
 "nbformat_minor": 5
}
