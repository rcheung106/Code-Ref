{
 "cells": [
  {
   "cell_type": "code",
   "execution_count": 4,
   "id": "6ccd9778-f9ac-41ee-9299-d323f8f20fbc",
   "metadata": {},
   "outputs": [],
   "source": [
    "import numpy as np\n",
    "import matplotlib.pyplot as plt"
   ]
  },
  {
   "cell_type": "markdown",
   "id": "9c20e8ef-52c0-419c-8bf8-eebdd8d4b798",
   "metadata": {},
   "source": [
    "**Numpy Indexing**"
   ]
  },
  {
   "cell_type": "code",
   "execution_count": 21,
   "id": "326b0bd9-541d-4c54-9d32-8a3e2f0e0f68",
   "metadata": {},
   "outputs": [
    {
     "data": {
      "text/plain": [
       "array([[ 0,  1,  2,  3,  4,  5],\n",
       "       [10, 11, 12, 13, 14, 15],\n",
       "       [20, 21, 22, 23, 24, 25],\n",
       "       [30, 31, 32, 33, 34, 35],\n",
       "       [40, 41, 42, 43, 44, 45],\n",
       "       [50, 51, 52, 53, 54, 55]])"
      ]
     },
     "execution_count": 21,
     "metadata": {},
     "output_type": "execute_result"
    }
   ],
   "source": [
    "matrix = np.array([[i * 10 + j for j in range(6)] for i in range(6)])\n",
    "matrix"
   ]
  },
  {
   "cell_type": "code",
   "execution_count": null,
   "id": "0b5ad076-42b9-4c11-bb28-05058090f52d",
   "metadata": {},
   "outputs": [],
   "source": [
    "matrix[0,3:5] #array([3, 4]). Start counting from 0. Upper bound not included."
   ]
  },
  {
   "cell_type": "code",
   "execution_count": null,
   "id": "b768fdea-d0f1-40b1-8129-3325850899df",
   "metadata": {},
   "outputs": [],
   "source": [
    "matrix[4:,4:] #array([[44, 45], [54, 55]])"
   ]
  },
  {
   "cell_type": "code",
   "execution_count": null,
   "id": "e37e56a7-5200-474f-879f-88672e020964",
   "metadata": {},
   "outputs": [],
   "source": [
    "matrix[:,2] #array([2,12,22,32,43,52]) All rows, column 2"
   ]
  },
  {
   "cell_type": "code",
   "execution_count": null,
   "id": "f8adcd95-804c-47e5-b118-d99f4e0fe530",
   "metadata": {},
   "outputs": [],
   "source": [
    "matrix[2::2, ::2] #array([[20,22,24],[40,42,44]]) Row 2 every other value, column 2 every other value"
   ]
  },
  {
   "cell_type": "markdown",
   "id": "11f6ac79-dd67-47e2-a515-027dec5b7981",
   "metadata": {},
   "source": [
    "**Arange() to give evenly spaced set of numbers**"
   ]
  },
  {
   "cell_type": "code",
   "execution_count": null,
   "id": "0b8412bf-4022-4bc9-ba93-0978240f86db",
   "metadata": {},
   "outputs": [],
   "source": [
    "np.arange(0,110,2) #Excluding upper bound. 2 is the step size."
   ]
  },
  {
   "cell_type": "markdown",
   "id": "97a64578-862d-401a-9972-0a4ba546756c",
   "metadata": {},
   "source": [
    "**Linspace() to give evenly splitted intervals**"
   ]
  },
  {
   "cell_type": "code",
   "execution_count": null,
   "id": "8204a0ac-9ccd-48f3-b616-0f1744ee6ebf",
   "metadata": {},
   "outputs": [],
   "source": [
    "np.linspace(0,5,21,axis=0) #Array of 0 to 5 in 21 equal parts (includes the upper bound). Axis=0 means values will increase along ROWS."
   ]
  },
  {
   "cell_type": "markdown",
   "id": "478da24f-2650-49b7-b58b-7ed2f42f82fd",
   "metadata": {},
   "source": [
    "**Array of zeros and ones**"
   ]
  },
  {
   "cell_type": "code",
   "execution_count": null,
   "id": "b179f568-b830-4dd1-9a37-1a010e96f9b5",
   "metadata": {},
   "outputs": [],
   "source": [
    "np.zeros((2,5))\n",
    "np.ones((3,10))"
   ]
  },
  {
   "cell_type": "markdown",
   "id": "204c49d5-42df-4ba9-9a8d-a532ee5206b0",
   "metadata": {},
   "source": [
    "**Identity Matrix (Diagonal 1s and 0s elsewhere)**"
   ]
  },
  {
   "cell_type": "code",
   "execution_count": null,
   "id": "69fb3faa-9daa-4e2b-8c64-ca4e5b4e687c",
   "metadata": {},
   "outputs": [],
   "source": [
    "np.eye(5)"
   ]
  },
  {
   "cell_type": "markdown",
   "id": "d4625932-6f41-4e25-af49-8f27e1160015",
   "metadata": {},
   "source": [
    "**Generate random numbers**"
   ]
  },
  {
   "cell_type": "code",
   "execution_count": null,
   "id": "3607d141-300e-4947-b66c-12114bebc70f",
   "metadata": {},
   "outputs": [],
   "source": [
    "np.random.rand(5,5) #Any random number from (0,1)\n",
    "np.random.randn(5,5) #Random number following standard normal distribution\n",
    "np.random.randint(1,100,(5,5)) #Random integer from 1 to 100. Low bound inclusive, upper bound exclusive"
   ]
  },
  {
   "cell_type": "code",
   "execution_count": null,
   "id": "6ca7084c-4c6d-40f2-b824-56a882ec06f1",
   "metadata": {},
   "outputs": [],
   "source": [
    "np.random.seed(42) #Set seed to make results reproducible"
   ]
  },
  {
   "cell_type": "markdown",
   "id": "bd5970cc-07b0-4373-9700-5880bbfde8fc",
   "metadata": {},
   "source": [
    "**Reshaping Array**"
   ]
  },
  {
   "cell_type": "code",
   "execution_count": null,
   "id": "552695e8-d93d-4d9e-a413-0d1d4799b77f",
   "metadata": {},
   "outputs": [],
   "source": [
    "arr.shape #shape is an attribute not method.\n",
    "arr.reshape(6,5)\n",
    "#The total number of elements has to fit into the shape. Can't fit 30 numbers in a matrix of 5x5."
   ]
  },
  {
   "cell_type": "markdown",
   "id": "3cba0ceb-054a-4bb4-a6b1-4d55b53a198b",
   "metadata": {},
   "source": [
    "**Min or max in an array**"
   ]
  },
  {
   "cell_type": "code",
   "execution_count": null,
   "id": "d08a1839-0b10-4d87-8b8e-c6c21aa74137",
   "metadata": {},
   "outputs": [],
   "source": [
    "ranarr.max() #find max value\n",
    "ranarr.min() #find min value\n",
    "ranarr.argmax() #find position of max value\n",
    "ranarr.argmin() #find position of min value"
   ]
  },
  {
   "cell_type": "markdown",
   "id": "2fcb7dbb-6695-4156-b24d-81dc51ee38a3",
   "metadata": {},
   "source": [
    "**dtype**"
   ]
  },
  {
   "cell_type": "code",
   "execution_count": null,
   "id": "e85d26fc-1306-4643-9e09-9950a0d75168",
   "metadata": {},
   "outputs": [],
   "source": [
    "arr.dtype #get data type of objects in the array"
   ]
  },
  {
   "cell_type": "markdown",
   "id": "0d05de0d-bb39-4094-96b8-df2b87c3f980",
   "metadata": {},
   "source": [
    "**Conditional Selection / Filtering**"
   ]
  },
  {
   "cell_type": "code",
   "execution_count": null,
   "id": "24ea0e2d-3978-45ff-b4cc-bdc321f4a9ab",
   "metadata": {},
   "outputs": [],
   "source": [
    "arr = np.arange(1,11)\n",
    "bool_arr = arr > 4"
   ]
  },
  {
   "cell_type": "code",
   "execution_count": null,
   "id": "56c2e6ff-41fb-4915-bf77-2215b82e0d19",
   "metadata": {},
   "outputs": [],
   "source": [
    "arr[bool_arr]\n",
    "#Or\n",
    "x = 2\n",
    "arr[arr>x]"
   ]
  },
  {
   "cell_type": "markdown",
   "id": "6eddbacc-8ddc-4db5-be62-a965c9a90359",
   "metadata": {},
   "source": [
    "**Arithmetic Operations**"
   ]
  },
  {
   "cell_type": "code",
   "execution_count": null,
   "id": "0ed9c04b-8e3b-4195-8a4e-8e96a400da8f",
   "metadata": {},
   "outputs": [],
   "source": [
    "arr + arr\n",
    "arr * arr\n",
    "arr - arr\n",
    "arr / arr\n",
    "1 / arr\n",
    "arr ** 3"
   ]
  },
  {
   "cell_type": "markdown",
   "id": "9474af82-9d22-49aa-800b-f2b07601c045",
   "metadata": {},
   "source": [
    "**Other Operations**"
   ]
  },
  {
   "cell_type": "code",
   "execution_count": null,
   "id": "dc5bf3e3-e4fc-4ef7-86c3-240634baed52",
   "metadata": {},
   "outputs": [],
   "source": [
    "np.sqrt(arr)\n",
    "np.exp(arr)\n",
    "np.sine(arr)\n",
    "np.log(arr)"
   ]
  },
  {
   "cell_type": "markdown",
   "id": "d7b0f995-b80c-4bfd-a8d4-fbd904f62bd2",
   "metadata": {},
   "source": [
    "**Summary Statistics**"
   ]
  },
  {
   "cell_type": "code",
   "execution_count": null,
   "id": "44f40cb8-f87e-4af9-892b-e9c1fe06366c",
   "metadata": {},
   "outputs": [],
   "source": [
    "arr.sum()\n",
    "arr.min()\n",
    "arr.std()\n",
    "arr.var()"
   ]
  },
  {
   "cell_type": "markdown",
   "id": "a2393467-c0b0-4a32-ae81-1da6910238fa",
   "metadata": {},
   "source": [
    "**Sum across rows / columns**"
   ]
  },
  {
   "cell_type": "code",
   "execution_count": null,
   "id": "7c4784a5-4669-481f-89f8-fddfc936f3e3",
   "metadata": {},
   "outputs": [],
   "source": [
    "arr_2d.sum(axis=0) #Sum VERTICALLY across rows along each column\n",
    "arr_2d.sum(axis=1) #Sum HORIZONTALLY across columns along each row"
   ]
  },
  {
   "cell_type": "markdown",
   "id": "b799e636-1270-48c4-90be-d49c27545ade",
   "metadata": {},
   "source": [
    "**Basic matplotlib plot and configurations**"
   ]
  },
  {
   "cell_type": "code",
   "execution_count": null,
   "id": "476db34a-d0a0-4223-bbf1-d977a7595bc5",
   "metadata": {},
   "outputs": [],
   "source": [
    "plt.plot(x, y) \n",
    "plt.xlabel('X Axis Title Here')\n",
    "plt.ylabel('Y Axis Title Here')\n",
    "plt.title('String Title Here')\n",
    "plt.xlim(0,6) # Lower Limit, Upper Limit\n",
    "plt.ylim(0,13); # Lower Limit, Upper Limit\n",
    "#plt.show() # Required for non-jupyter users , but also removes Out[] info"
   ]
  },
  {
   "cell_type": "code",
   "execution_count": null,
   "id": "b0b649a7-248c-4942-9699-e09fba4ce5be",
   "metadata": {},
   "outputs": [],
   "source": [
    "plt.plot(x,y)\n",
    "plt.savefig('myfirstplot.jpeg')"
   ]
  },
  {
   "cell_type": "markdown",
   "id": "c6237ea4-a511-4eff-8b42-889b56f5c698",
   "metadata": {},
   "source": [
    "**Object Oriented Method**"
   ]
  },
  {
   "cell_type": "code",
   "execution_count": null,
   "id": "6cfb6ed8-3aef-4bb3-ab9a-827b89c9e14b",
   "metadata": {},
   "outputs": [],
   "source": [
    "fig = plt.figure() # Creates blank canvas\n",
    "\n",
    "axes1 = fig.add_axes([0, 0, 1, 1]) # left, bottom, width, height (range 0 to 1) # Full figure\n",
    "axes2 = fig.add_axes([0.2, 0.5, 0.25, 0.25]) # Smaller figure\n",
    "axes3 = fig.add_axes([1, 1, 0.25, 0.25]) # Starts at top right corner!\n",
    "\n",
    "# Larger Figure Axes 1\n",
    "axes1.plot(a, b)\n",
    "\n",
    "# Use set_ to add to the axes figure\n",
    "axes1.set_xlabel('X Label')\n",
    "axes1.set_ylabel('Y Label')\n",
    "axes1.set_title('Big Figure')\n",
    "\n",
    "# Insert Figure Axes 2\n",
    "axes2.plot(a,b)\n",
    "axes2.set_xlim(8,10)\n",
    "axes2.set_ylim(4000,10000)\n",
    "axes2.set_xlabel('X')\n",
    "axes2.set_ylabel('Y')\n",
    "axes2.set_title('Zoomed In');\n",
    "\n",
    "# Insert Figure Axes 3\n",
    "axes3.plot(a,b)\n",
    "\n",
    "# Save the plot\n",
    "fig.savefig('figure.png',bbox_inches='tight')"
   ]
  },
  {
   "cell_type": "markdown",
   "id": "217daf57-19a4-46e1-9e12-9e05a26083b0",
   "metadata": {},
   "source": [
    "**Subplots**"
   ]
  },
  {
   "cell_type": "code",
   "execution_count": null,
   "id": "60e1c05b-cab5-415d-b1d5-ca8d524b760a",
   "metadata": {},
   "outputs": [],
   "source": [
    "fig,axes = plt.subplots(nrows=1,ncols=2,figsize=(12,8))\n",
    "\n",
    "#Plot with for loop\n",
    "for axe in axes:\n",
    "    axe.plot(x,y)\n",
    "\n",
    "#OR plot each axe individually\n",
    "fig,axes = plt.subplots(nrows=2,ncols=2)\n",
    "\n",
    "axes[0][0].plot(a,b) #plot in top left subplot\n",
    "axes[1][1].plot(x,y) #plot in bottom right subplot\n",
    "\n",
    "#Set parameters indiidually\n",
    "axes[1][1].plot(x,y)\n",
    "axes[1][1].set_title('1 1 Title')\n",
    "axes[1][1].set_xlabel('1 1 X Label')\n",
    "\n",
    "#Set figure level title\n",
    "fig.suptitle(\"Figure Level\",fontsize=16)\n",
    "\n",
    "plt.tight_layout() #automatically adjusts the positions of the axes on the figure canvas so there is no overlapping content\n",
    "plt.show()"
   ]
  },
  {
   "cell_type": "code",
   "execution_count": null,
   "id": "d7c56ee3-c900-4190-8ac7-bec47a784e7a",
   "metadata": {},
   "outputs": [],
   "source": [
    "fig.subplots_adjust(left=None, bottom=None,right=None,top=None,wspace=0.9,hspace=0.1,) #Manually space subplots\n",
    "fig.savefig('subplots.png',bbox_inches='tight')"
   ]
  },
  {
   "cell_type": "markdown",
   "id": "b44e2b0a-e57c-4373-af9f-a4a7ee708e92",
   "metadata": {},
   "source": [
    "**More Styling Options**"
   ]
  },
  {
   "cell_type": "code",
   "execution_count": null,
   "id": "09236bbf-7951-44fb-ba2d-b743619fda1b",
   "metadata": {},
   "outputs": [],
   "source": [
    "# Legends\n",
    "fig = plt.figure()\n",
    "\n",
    "ax = fig.add_axes([0,0,1,1])\n",
    "\n",
    "ax.plot(x, x**2, label=\"x**2\")\n",
    "ax.plot(x, x**3, label=\"x**3\")\n",
    "ax.legend()"
   ]
  },
  {
   "cell_type": "code",
   "execution_count": null,
   "id": "94ef7657-bba1-4670-9c26-f3cee53ba9bd",
   "metadata": {},
   "outputs": [],
   "source": [
    "ax.legend(loc=1) # upper right corner\n",
    "ax.legend(loc=2) # upper left corner\n",
    "ax.legend(loc=3) # lower left corner\n",
    "ax.legend(loc=4) # lower right corner\n",
    "ax.legend(loc=0) # let matplotlib decide the optimal location\n",
    "loc=(1.1,0.5) # manually set locations outside the plot\n",
    "fig"
   ]
  },
  {
   "cell_type": "code",
   "execution_count": null,
   "id": "8d1efe56-2b6c-457f-b757-8ff0b0667e0d",
   "metadata": {},
   "outputs": [],
   "source": [
    "#Color and styling\n",
    "ax.plot(x, x**2, 'b.-') # blue line with dots\n",
    "ax.plot(x, x**3, 'g--') # green dashed line\n",
    "ax.plot(x, x+1, color=\"blue\", alpha=0.5) # half-transparant\n",
    "ax.plot(x, x+2, color=\"#8B008B\")        # RGB hex code\n",
    "ax.plot(x, x+3, color=\"#FF8C00\",lw=0.50)        # linewidth\n",
    "\n",
    "ax.plot(x, x-1, color=\"green\", lw=3, linestyle='-') # solid\n",
    "ax.plot(x, x-2, color=\"green\", lw=3, ls='-.') # dash and dot\n",
    "ax.plot(x, x-3, color=\"green\", lw=3, ls=':') # dots\n",
    "ax.plot(x, x-4, color=\"green\", lw=3, ls='--') # dashes"
   ]
  },
  {
   "cell_type": "code",
   "execution_count": null,
   "id": "da8bdd9a-2dfc-4a9a-a4fc-fc2aa8672b87",
   "metadata": {},
   "outputs": [],
   "source": [
    "#Custom line and dashes\n",
    "lines = ax.plot(x, x+8, color=\"black\", lw=5)\n",
    "lines[0].set_dashes([1, 1,1,1,10,10]) # format: line length, space length"
   ]
  },
  {
   "cell_type": "code",
   "execution_count": null,
   "id": "d4111025-8424-4da5-aec5-c01287386852",
   "metadata": {},
   "outputs": [],
   "source": [
    "#Line markers\n",
    "ax.plot(x, x-1,marker='+',markersize=20)\n",
    "ax.plot(x, x-2,marker='o',ms=20) #ms can be used for markersize\n",
    "ax.plot(x, x-3,marker='s',ms=20,lw=0) # make linewidth zero to see only markers\n",
    "ax.plot(x, x-4,marker='1',ms=20)\n",
    "ax.plot(x, x, color=\"black\", lw=1, ls='-', marker='s', markersize=20, \n",
    "        markerfacecolor=\"red\", markeredgewidth=8, markeredgecolor=\"blue\");\n",
    "\n",
    "\n",
    "#Text annotation\n",
    "ax.text(0.15, 0.2, r\"$y=x^2$\", fontsize=20, color=\"blue\")\n",
    "ax.text(0.65, 0.1, r\"$y=x^3$\", fontsize=20, color=\"green\");"
   ]
  },
  {
   "cell_type": "markdown",
   "id": "056d5425-8905-454c-b012-d9b759385715",
   "metadata": {},
   "source": [
    "**Log Scale**"
   ]
  },
  {
   "cell_type": "code",
   "execution_count": null,
   "id": "f6735844-7807-4d2b-baee-04347463e679",
   "metadata": {},
   "outputs": [],
   "source": [
    "fig, axes = plt.subplots(1, 2, figsize=(10,4))\n",
    "      \n",
    "axes[0].plot(x, x**2, x, np.exp(x))\n",
    "axes[0].set_title(\"Normal scale\")\n",
    "\n",
    "axes[1].plot(x, x**2, x, np.exp(x))\n",
    "axes[1].set_yscale(\"log\")\n",
    "axes[1].set_title(\"Logarithmic scale (y)\");"
   ]
  },
  {
   "cell_type": "markdown",
   "id": "6591a57f-6947-4ed8-a333-bfd40bd70ea4",
   "metadata": {},
   "source": [
    "**Ticks along axes**"
   ]
  },
  {
   "cell_type": "code",
   "execution_count": null,
   "id": "8a3a85e6-af19-428a-8380-982060a1b37e",
   "metadata": {},
   "outputs": [],
   "source": [
    "fig, ax = plt.subplots(figsize=(10, 4))\n",
    "\n",
    "ax.plot(x, x**2, x, x**3, lw=2)\n",
    "\n",
    "ax.set_xticks([1, 2, 3, 4, 5])\n",
    "ax.set_xticklabels([r'$\\alpha$', r'$\\beta$', r'$\\gamma$', r'$\\delta$', r'$\\epsilon$'], fontsize=18)\n",
    "\n",
    "yticks = [0, 50, 100, 150]\n",
    "ax.set_yticks(yticks)\n",
    "ax.set_yticklabels([\"$%.1f$\" % y for y in yticks], fontsize=18); # use LaTeX formatted labels\n",
    "fig.subplots_adjust(left=0.15, right=.9, bottom=0.1, top=0.9); #Adjust axis position on subplots"
   ]
  },
  {
   "cell_type": "markdown",
   "id": "eccc1e68-071c-4595-9bfb-372c179009f5",
   "metadata": {},
   "source": [
    "**Scientific Notation**"
   ]
  },
  {
   "cell_type": "code",
   "execution_count": null,
   "id": "ef98faf6-2dc1-4013-b9aa-6a6c74aa3399",
   "metadata": {},
   "outputs": [],
   "source": [
    "fig, ax = plt.subplots(1, 1)\n",
    "      \n",
    "ax.plot(x, x**2, x, np.exp(x))\n",
    "ax.set_title(\"scientific notation\")\n",
    "\n",
    "ax.set_yticks([0, 50, 100, 150])\n",
    "\n",
    "from matplotlib import ticker\n",
    "formatter = ticker.ScalarFormatter(useMathText=True)\n",
    "formatter.set_scientific(True) \n",
    "formatter.set_powerlimits((-1,1)) \n",
    "ax.yaxis.set_major_formatter(formatter) "
   ]
  },
  {
   "cell_type": "markdown",
   "id": "4558db59-be2e-41d1-9c31-342671a3216f",
   "metadata": {},
   "source": [
    "**Axis grids**"
   ]
  },
  {
   "cell_type": "code",
   "execution_count": null,
   "id": "42a2d313-83c3-42bd-8b6a-4dca1b359a57",
   "metadata": {},
   "outputs": [],
   "source": [
    "fig, axes = plt.subplots(1, 2, figsize=(10,3))\n",
    "\n",
    "# default grid appearance\n",
    "axes[0].plot(x, x**2, x, x**3, lw=2)\n",
    "axes[0].grid(True) #Simply turn it on\n",
    "\n",
    "# custom grid appearance\n",
    "axes[1].plot(x, x**2, x, x**3, lw=2)\n",
    "axes[1].grid(color='b', alpha=0.5, linestyle='dashed', linewidth=0.5)"
   ]
  },
  {
   "cell_type": "markdown",
   "id": "df5ed5d6-e059-4350-ac26-b1b8b249d768",
   "metadata": {},
   "source": [
    "**Axis Spines**"
   ]
  },
  {
   "cell_type": "code",
   "execution_count": null,
   "id": "0c81c12c-51bc-4e65-b282-163030407194",
   "metadata": {},
   "outputs": [],
   "source": [
    "fig, ax = plt.subplots(figsize=(6,2))\n",
    "\n",
    "ax.spines['bottom'].set_color('blue')\n",
    "ax.spines['top'].set_color('blue')\n",
    "\n",
    "ax.spines['left'].set_color('red')\n",
    "ax.spines['left'].set_linewidth(2)\n",
    "\n",
    "# turn off axis spine to the right\n",
    "ax.spines['right'].set_color(\"none\")\n",
    "ax.yaxis.tick_left() # only ticks on the left side"
   ]
  },
  {
   "cell_type": "markdown",
   "id": "0c2bfc76-2622-42b8-89b2-6bee1f8f8675",
   "metadata": {},
   "source": [
    "**Twin Axes (twinx or twiny)**"
   ]
  },
  {
   "cell_type": "code",
   "execution_count": null,
   "id": "7ff8dc44-539c-4499-80c5-5389ae791e26",
   "metadata": {},
   "outputs": [],
   "source": [
    "fig, ax1 = plt.subplots()\n",
    "\n",
    "ax1.plot(x, x**2, lw=2, color=\"blue\")\n",
    "ax1.set_ylabel(r\"area $(m^2)$\", fontsize=18, color=\"blue\")\n",
    "for label in ax1.get_yticklabels():\n",
    "    label.set_color(\"blue\")\n",
    "    \n",
    "ax2 = ax1.twinx()\n",
    "ax2.plot(x, x**3, lw=2, color=\"red\")\n",
    "ax2.set_ylabel(r\"volume $(m^3)$\", fontsize=18, color=\"red\")\n",
    "for label in ax2.get_yticklabels():\n",
    "    label.set_color(\"red\")"
   ]
  },
  {
   "cell_type": "markdown",
   "id": "a8192132-b8db-4da1-a92a-b2657db0a8f3",
   "metadata": {},
   "source": [
    "**Axes at x or y = 0**"
   ]
  },
  {
   "cell_type": "code",
   "execution_count": null,
   "id": "0207fa00-546c-4fa1-aab8-ed7e8b967222",
   "metadata": {},
   "outputs": [],
   "source": [
    "fig, ax = plt.subplots()\n",
    "\n",
    "ax.spines['right'].set_color('none')\n",
    "ax.spines['top'].set_color('none')\n",
    "\n",
    "ax.xaxis.set_ticks_position('bottom')\n",
    "ax.spines['bottom'].set_position(('data',0)) # set position of x spine to x=0\n",
    "\n",
    "ax.yaxis.set_ticks_position('left')\n",
    "ax.spines['left'].set_position(('data',0))   # set position of y spine to y=0\n",
    "\n",
    "xx = np.linspace(-0.75, 1., 100)\n",
    "ax.plot(xx, xx**3);"
   ]
  },
  {
   "cell_type": "markdown",
   "id": "5606420d-f5ca-42d1-9653-b7d87101eb2a",
   "metadata": {},
   "source": [
    "**Other 2D Plot Types**"
   ]
  },
  {
   "cell_type": "code",
   "execution_count": null,
   "id": "8d225cab-08d2-4528-98b0-ec5987e25050",
   "metadata": {},
   "outputs": [],
   "source": [
    "n = np.array([0,1,2,3,4,5])\n",
    "fig, axes = plt.subplots(1, 4, figsize=(12,3))\n",
    "\n",
    "axes[0].scatter(n, n + 0.25*np.random.randn(len(n)))\n",
    "axes[0].set_title(\"scatter\")\n",
    "\n",
    "axes[1].step(n, n**2, lw=2)\n",
    "axes[1].set_title(\"step\")\n",
    "\n",
    "axes[2].bar(n, n**2, align=\"center\", width=0.5, alpha=0.5)\n",
    "axes[2].set_title(\"bar\")\n",
    "\n",
    "axes[3].fill_between(n, n**2, n**3, color=\"green\", alpha=0.5);\n",
    "axes[3].set_title(\"fill_between\");"
   ]
  },
  {
   "cell_type": "markdown",
   "id": "93b20936-ab1c-436a-a0cb-db34608daa16",
   "metadata": {},
   "source": [
    "**Subplot2grid**"
   ]
  },
  {
   "cell_type": "code",
   "execution_count": null,
   "id": "5e8e5a96-ed0c-44f5-be42-c71f053ecbd9",
   "metadata": {},
   "outputs": [],
   "source": [
    "fig = plt.figure()\n",
    "ax1 = plt.subplot2grid((3,3), (0,0), colspan=3)\n",
    "ax2 = plt.subplot2grid((3,3), (1,0), colspan=2)\n",
    "ax3 = plt.subplot2grid((3,3), (1,2), rowspan=2)\n",
    "ax4 = plt.subplot2grid((3,3), (2,0))\n",
    "ax5 = plt.subplot2grid((3,3), (2,1))\n",
    "fig.tight_layout()"
   ]
  },
  {
   "cell_type": "markdown",
   "id": "ad1789a1-ce1c-446c-b86d-6ebe04044c92",
   "metadata": {},
   "source": [
    "**gridspec**"
   ]
  },
  {
   "cell_type": "code",
   "execution_count": null,
   "id": "14de9932-c373-4858-9a68-17dc85070500",
   "metadata": {},
   "outputs": [],
   "source": [
    "import matplotlib.gridspec as gridspec\n",
    "fig = plt.figure()\n",
    "\n",
    "gs = gridspec.GridSpec(2, 3, height_ratios=[2,1], width_ratios=[1,2,1])\n",
    "for g in gs:\n",
    "    ax = fig.add_subplot(g)\n",
    "    \n",
    "fig.tight_layout()"
   ]
  },
  {
   "cell_type": "markdown",
   "id": "0e7821d5-125a-4aa0-8f09-6fd125469d55",
   "metadata": {},
   "source": [
    "**Colormap and Contour**"
   ]
  },
  {
   "cell_type": "code",
   "execution_count": null,
   "id": "14e710a6-95eb-44fe-8d19-6ad845bf2ede",
   "metadata": {},
   "outputs": [],
   "source": [
    "alpha = 0.7\n",
    "phi_ext = 2 * np.pi * 0.5\n",
    "\n",
    "def flux_qubit_potential(phi_m, phi_p):\n",
    "    return 2 + alpha - 2 * np.cos(phi_p) * np.cos(phi_m) - alpha * np.cos(phi_ext - 2*phi_p)\n",
    "\n",
    "phi_m = np.linspace(0, 2*np.pi, 100)\n",
    "phi_p = np.linspace(0, 2*np.pi, 100)\n",
    "X,Y = np.meshgrid(phi_p, phi_m)\n",
    "Z = flux_qubit_potential(X, Y).T"
   ]
  },
  {
   "cell_type": "code",
   "execution_count": null,
   "id": "cf1c3d3e-d88d-4fe6-8136-d9ff1f254fe0",
   "metadata": {},
   "outputs": [],
   "source": [
    "#pcolor\n",
    "fig, ax = plt.subplots()\n",
    "\n",
    "p = ax.pcolor(X/(2*np.pi), Y/(2*np.pi), Z, cmap=matplotlib.cm.RdBu, vmin=abs(Z).min(), vmax=abs(Z).max())\n",
    "cb = fig.colorbar(p, ax=ax)"
   ]
  },
  {
   "cell_type": "code",
   "execution_count": null,
   "id": "0cf3f5fa-d936-427b-9ea8-3659353df89e",
   "metadata": {},
   "outputs": [],
   "source": [
    "#imshow\n",
    "fig, ax = plt.subplots()\n",
    "\n",
    "im = ax.imshow(Z, cmap=matplotlib.cm.RdBu, vmin=abs(Z).min(), vmax=abs(Z).max(), extent=[0, 1, 0, 1])\n",
    "im.set_interpolation('bilinear')\n",
    "\n",
    "cb = fig.colorbar(im, ax=ax)"
   ]
  },
  {
   "cell_type": "code",
   "execution_count": null,
   "id": "a7726a6c-1e79-4895-8c3c-79a00ed3896c",
   "metadata": {},
   "outputs": [],
   "source": [
    "#contour\n",
    "fig, ax = plt.subplots()\n",
    "\n",
    "cnt = ax.contour(Z, cmap=matplotlib.cm.RdBu, vmin=abs(Z).min(), vmax=abs(Z).max(), extent=[0, 1, 0, 1])"
   ]
  },
  {
   "cell_type": "markdown",
   "id": "580d7511-c429-4030-ba2a-b6c0f9bc310e",
   "metadata": {},
   "source": [
    "**3D Plot - Surface Plots**"
   ]
  },
  {
   "cell_type": "code",
   "execution_count": null,
   "id": "10204318-9034-4c34-8a0d-b284a260910d",
   "metadata": {},
   "outputs": [],
   "source": [
    "from mpl_toolkits.mplot3d.axes3d import Axes3D\n",
    "fig = plt.figure(figsize=(14,6))\n",
    "\n",
    "# `ax` is a 3D-aware axis instance because of the projection='3d' keyword argument to add_subplot\n",
    "ax = fig.add_subplot(1, 2, 1, projection='3d')\n",
    "\n",
    "p = ax.plot_surface(X, Y, Z, rstride=4, cstride=4, linewidth=0)\n",
    "\n",
    "# surface_plot with color grading and color bar\n",
    "ax = fig.add_subplot(1, 2, 2, projection='3d')\n",
    "p = ax.plot_surface(X, Y, Z, rstride=1, cstride=1, cmap=matplotlib.cm.coolwarm, linewidth=0, antialiased=False)\n",
    "cb = fig.colorbar(p, shrink=0.5)"
   ]
  },
  {
   "cell_type": "markdown",
   "id": "98d81417-c943-4f32-bca7-e3f639b5817b",
   "metadata": {},
   "source": [
    "**3D Plot - Wire-frame Plot**"
   ]
  },
  {
   "cell_type": "code",
   "execution_count": null,
   "id": "7414bce5-8c13-4153-b00d-45847618c01d",
   "metadata": {},
   "outputs": [],
   "source": [
    "fig = plt.figure(figsize=(8,6))\n",
    "\n",
    "ax = fig.add_subplot(1, 1, 1, projection='3d')\n",
    "\n",
    "p = ax.plot_wireframe(X, Y, Z, rstride=4, cstride=4)"
   ]
  },
  {
   "cell_type": "markdown",
   "id": "63b9a8c1-1c30-4a31-8334-607c9be414e2",
   "metadata": {},
   "source": [
    "**3D Plot - Contour Plot with Projections**"
   ]
  },
  {
   "cell_type": "code",
   "execution_count": null,
   "id": "03360a10-ac6f-47a7-a4d6-5b9551ddd1d9",
   "metadata": {},
   "outputs": [],
   "source": [
    "fig = plt.figure(figsize=(8,6))\n",
    "\n",
    "ax = fig.add_subplot(1,1,1, projection='3d')\n",
    "\n",
    "ax.plot_surface(X, Y, Z, rstride=4, cstride=4, alpha=0.25)\n",
    "cset = ax.contour(X, Y, Z, zdir='z', offset=-np.pi, cmap=matplotlib.cm.coolwarm)\n",
    "cset = ax.contour(X, Y, Z, zdir='x', offset=-np.pi, cmap=matplotlib.cm.coolwarm)\n",
    "cset = ax.contour(X, Y, Z, zdir='y', offset=3*np.pi, cmap=matplotlib.cm.coolwarm)\n",
    "\n",
    "ax.set_xlim3d(-np.pi, 2*np.pi);\n",
    "ax.set_ylim3d(0, 3*np.pi);\n",
    "ax.set_zlim3d(-np.pi, 2*np.pi);"
   ]
  }
 ],
 "metadata": {
  "kernelspec": {
   "display_name": "Python 3 (ipykernel)",
   "language": "python",
   "name": "python3"
  },
  "language_info": {
   "codemirror_mode": {
    "name": "ipython",
    "version": 3
   },
   "file_extension": ".py",
   "mimetype": "text/x-python",
   "name": "python",
   "nbconvert_exporter": "python",
   "pygments_lexer": "ipython3",
   "version": "3.12.4"
  }
 },
 "nbformat": 4,
 "nbformat_minor": 5
}
